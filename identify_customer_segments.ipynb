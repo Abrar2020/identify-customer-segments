{
 "cells": [
  {
   "cell_type": "markdown",
   "metadata": {},
   "source": [
    "# Project: Identify Customer Segments\n",
    "\n",
    "In this project, you will apply unsupervised learning techniques to identify segments of the population that form the core customer base for a mail-order sales company in Germany. These segments can then be used to direct marketing campaigns towards audiences that will have the highest expected rate of returns. The data that you will use has been provided by our partners at Bertelsmann Arvato Analytics, and represents a real-life data science task.\n",
    "\n",
    "This notebook will help you complete this task by providing a framework within which you will perform your analysis steps. In each step of the project, you will see some text describing the subtask that you will perform, followed by one or more code cells for you to complete your work. **Feel free to add additional code and markdown cells as you go along so that you can explore everything in precise chunks.** The code cells provided in the base template will outline only the major tasks, and will usually not be enough to cover all of the minor tasks that comprise it.\n",
    "\n",
    "It should be noted that while there will be precise guidelines on how you should handle certain tasks in the project, there will also be places where an exact specification is not provided. **There will be times in the project where you will need to make and justify your own decisions on how to treat the data.** These are places where there may not be only one way to handle the data. In real-life tasks, there may be many valid ways to approach an analysis task. One of the most important things you can do is clearly document your approach so that other scientists can understand the decisions you've made.\n",
    "\n",
    "At the end of most sections, there will be a Markdown cell labeled **Discussion**. In these cells, you will report your findings for the completed section, as well as document the decisions that you made in your approach to each subtask. **Your project will be evaluated not just on the code used to complete the tasks outlined, but also your communication about your observations and conclusions at each stage.**"
   ]
  },
  {
   "cell_type": "code",
   "execution_count": 1,
   "metadata": {},
   "outputs": [],
   "source": [
    "# import libraries here; add more as necessary\n",
    "import numpy as np\n",
    "import pandas as pd\n",
    "import matplotlib.pyplot as plt\n",
    "import seaborn as sns\n",
    "import math\n",
    "from sklearn.preprocessing import Imputer, StandardScaler\n",
    "from sklearn.decomposition import PCA\n",
    "from collections import OrderedDict, Counter\n",
    "from sklearn.cluster import KMeans\n",
    "\n",
    "# magic word for producing visualizations in notebook\n",
    "%matplotlib inline"
   ]
  },
  {
   "cell_type": "markdown",
   "metadata": {},
   "source": [
    "### Step 0: Load the Data\n",
    "\n",
    "There are four files associated with this project (not including this one):\n",
    "\n",
    "- `Udacity_AZDIAS_Subset.csv`: Demographics data for the general population of Germany; 891211 persons (rows) x 85 features (columns).\n",
    "- `Udacity_CUSTOMERS_Subset.csv`: Demographics data for customers of a mail-order company; 191652 persons (rows) x 85 features (columns).\n",
    "- `Data_Dictionary.md`: Detailed information file about the features in the provided datasets.\n",
    "- `AZDIAS_Feature_Summary.csv`: Summary of feature attributes for demographics data; 85 features (rows) x 4 columns\n",
    "\n",
    "Each row of the demographics files represents a single person, but also includes information outside of individuals, including information about their household, building, and neighborhood. You will use this information to cluster the general population into groups with similar demographic properties. Then, you will see how the people in the customers dataset fit into those created clusters. The hope here is that certain clusters are over-represented in the customers data, as compared to the general population; those over-represented clusters will be assumed to be part of the core userbase. This information can then be used for further applications, such as targeting for a marketing campaign.\n",
    "\n",
    "To start off with, load in the demographics data for the general population into a pandas DataFrame, and do the same for the feature attributes summary. Note for all of the `.csv` data files in this project: they're semicolon (`;`) delimited, so you'll need an additional argument in your [`read_csv()`](https://pandas.pydata.org/pandas-docs/stable/generated/pandas.read_csv.html) call to read in the data properly. Also, considering the size of the main dataset, it may take some time for it to load completely.\n",
    "\n",
    "Once the dataset is loaded, it's recommended that you take a little bit of time just browsing the general structure of the dataset and feature summary file. You'll be getting deep into the innards of the cleaning in the first major step of the project, so gaining some general familiarity can help you get your bearings."
   ]
  },
  {
   "cell_type": "code",
   "execution_count": 2,
   "metadata": {},
   "outputs": [],
   "source": [
    "# Load in the general demographics data.\n",
    "azdias = pd.read_csv('./Udacity_AZDIAS_Subset.csv', sep = ';')\n",
    "\n",
    "# Load in the feature summary file.\n",
    "feat_info = pd.read_csv('./AZDIAS_Feature_Summary.csv', sep = ';')"
   ]
  },
  {
   "cell_type": "code",
   "execution_count": 3,
   "metadata": {},
   "outputs": [
    {
     "name": "stdout",
     "output_type": "stream",
     "text": [
      "Shape: (891221, 85)\n",
      "\n",
      "   AGER_TYP  ALTERSKATEGORIE_GROB  ANREDE_KZ  CJT_GESAMTTYP  \\\n",
      "0        -1                     2          1            2.0   \n",
      "1        -1                     1          2            5.0   \n",
      "\n",
      "   FINANZ_MINIMALIST  FINANZ_SPARER  FINANZ_VORSORGER  FINANZ_ANLEGER  \\\n",
      "0                  3              4                 3               5   \n",
      "1                  1              5                 2               5   \n",
      "\n",
      "   FINANZ_UNAUFFAELLIGER  FINANZ_HAUSBAUER  ...  PLZ8_ANTG1  PLZ8_ANTG2  \\\n",
      "0                      5                 3  ...         NaN         NaN   \n",
      "1                      4                 5  ...         2.0         3.0   \n",
      "\n",
      "   PLZ8_ANTG3  PLZ8_ANTG4  PLZ8_BAUMAX  PLZ8_HHZ  PLZ8_GBZ  ARBEIT  \\\n",
      "0         NaN         NaN          NaN       NaN       NaN     NaN   \n",
      "1         2.0         1.0          1.0       5.0       4.0     3.0   \n",
      "\n",
      "   ORTSGR_KLS9  RELAT_AB  \n",
      "0          NaN       NaN  \n",
      "1          5.0       4.0  \n",
      "\n",
      "[2 rows x 85 columns]\n"
     ]
    }
   ],
   "source": [
    "# Check the structure of the data after it's loaded (e.g. print the number of\n",
    "# rows and columns, print the first few rows).\n",
    "print('Shape: {}\\n'.format(azdias.shape))\n",
    "print(azdias.head(2))"
   ]
  },
  {
   "cell_type": "code",
   "execution_count": 4,
   "metadata": {},
   "outputs": [
    {
     "name": "stdout",
     "output_type": "stream",
     "text": [
      "Shape: (85, 4)\n",
      "\n",
      "              attribute information_level         type missing_or_unknown\n",
      "0              AGER_TYP            person  categorical             [-1,0]\n",
      "1  ALTERSKATEGORIE_GROB            person      ordinal           [-1,0,9]\n",
      "2             ANREDE_KZ            person  categorical             [-1,0]\n",
      "3         CJT_GESAMTTYP            person  categorical                [0]\n",
      "4     FINANZ_MINIMALIST            person      ordinal               [-1]\n"
     ]
    }
   ],
   "source": [
    "print('Shape: {}\\n'.format(feat_info.shape))\n",
    "print(feat_info.head())"
   ]
  },
  {
   "cell_type": "markdown",
   "metadata": {},
   "source": [
    "> **Tip**: Add additional cells to keep everything in reasonably-sized chunks! Keyboard shortcut `esc --> a` (press escape to enter command mode, then press the 'A' key) adds a new cell before the active cell, and `esc --> b` adds a new cell after the active cell. If you need to convert an active cell to a markdown cell, use `esc --> m` and to convert to a code cell, use `esc --> y`. \n",
    "\n",
    "## Step 1: Preprocessing\n",
    "\n",
    "### Step 1.1: Assess Missing Data\n",
    "\n",
    "The feature summary file contains a summary of properties for each demographics data column. You will use this file to help you make cleaning decisions during this stage of the project. First of all, you should assess the demographics data in terms of missing data. Pay attention to the following points as you perform your analysis, and take notes on what you observe. Make sure that you fill in the **Discussion** cell with your findings and decisions at the end of each step that has one!\n",
    "\n",
    "#### Step 1.1.1: Convert Missing Value Codes to NaNs\n",
    "The fourth column of the feature attributes summary (loaded in above as `feat_info`) documents the codes from the data dictionary that indicate missing or unknown data. While the file encodes this as a list (e.g. `[-1,0]`), this will get read in as a string object. You'll need to do a little bit of parsing to make use of it to identify and clean the data. Convert data that matches a 'missing' or 'unknown' value code into a numpy NaN value. You might want to see how much data takes on a 'missing' or 'unknown' code, and how much data is naturally missing, as a point of interest.\n",
    "\n",
    "**As one more reminder, you are encouraged to add additional cells to break up your analysis into manageable chunks.**"
   ]
  },
  {
   "cell_type": "code",
   "execution_count": 5,
   "metadata": {},
   "outputs": [],
   "source": [
    "# Identify missing or unknown data values and convert them to NaNs.\n",
    "init_nan_count = azdias.isna().sum().sum()"
   ]
  },
  {
   "cell_type": "code",
   "execution_count": 6,
   "metadata": {},
   "outputs": [],
   "source": [
    "def missing_value_code_to_list(code):\n",
    "    \n",
    "    '''\n",
    "     This function converts a missing_value_code from the feat_info \n",
    "     dataframe from string to list format.\n",
    "     \n",
    "     INPUT: str - The missing_value_code as a string.\n",
    "     \n",
    "     OUTPUt: list - the missing_value code as a list.\n",
    "    '''\n",
    "    \n",
    "    code_as_list = code[1:-1].split(',')\n",
    "    \n",
    "    for i in range(len(code_as_list)):\n",
    "        \n",
    "        try:\n",
    "            code_as_list[i] = int(code_as_list[i])\n",
    "        except:\n",
    "            continue\n",
    "    \n",
    "    return code_as_list"
   ]
  },
  {
   "cell_type": "code",
   "execution_count": 7,
   "metadata": {},
   "outputs": [],
   "source": [
    "for col in azdias.columns:\n",
    "    \n",
    "    missing_value_code = feat_info[feat_info.attribute == col]['missing_or_unknown'].item()\n",
    "    missing_value_code = missing_value_code_to_list(missing_value_code)\n",
    "\n",
    "    azdias.loc[azdias[col].isin(missing_value_code), col] = np.nan"
   ]
  },
  {
   "cell_type": "code",
   "execution_count": 8,
   "metadata": {},
   "outputs": [
    {
     "name": "stdout",
     "output_type": "stream",
     "text": [
      "Total missing data values before cleaning: 4896838\n",
      "Total missing data values after cleaning: 8373929\n",
      "Percent increase after cleaning: 71.00686197909754%\n",
      "Percent of entries that are unknonw: 11.05413940702765%\n"
     ]
    }
   ],
   "source": [
    "final_nan_count = azdias.isna().sum().sum()\n",
    "percent_increase = ((final_nan_count - init_nan_count) / init_nan_count)*100\n",
    "percent_unknown = (final_nan_count / (azdias.shape[0]*azdias.shape[1]))*100\n",
    "\n",
    "print('Total missing data values before cleaning: {}'.format(init_nan_count))\n",
    "print('Total missing data values after cleaning: {}'.format(final_nan_count))\n",
    "print('Percent increase after cleaning: {}%'.format(percent_increase))\n",
    "print('Percent of entries that are unknonw: {}%'.format(percent_unknown))"
   ]
  },
  {
   "cell_type": "markdown",
   "metadata": {},
   "source": [
    "#### Step 1.1.2: Assess Missing Data in Each Column\n",
    "\n",
    "How much missing data is present in each column? There are a few columns that are outliers in terms of the proportion of values that are missing. You will want to use matplotlib's [`hist()`](https://matplotlib.org/api/_as_gen/matplotlib.pyplot.hist.html) function to visualize the distribution of missing value counts to find these columns. Identify and document these columns. While some of these columns might have justifications for keeping or re-encoding the data, for this project you should just remove them from the dataframe. (Feel free to make remarks about these outlier columns in the discussion, however!)\n",
    "\n",
    "For the remaining features, are there any patterns in which columns have, or share, missing data?"
   ]
  },
  {
   "cell_type": "code",
   "execution_count": 9,
   "metadata": {},
   "outputs": [],
   "source": [
    "# Perform an assessment of how much missing data there is in each column of the\n",
    "# dataset.\n",
    "nan_col_counts = azdias.isna().sum(axis = 0)"
   ]
  },
  {
   "cell_type": "code",
   "execution_count": 10,
   "metadata": {},
   "outputs": [
    {
     "data": {
      "image/png": "[encoded data removed]",
      "text/plain": [
       "<Figure size 432x288 with 1 Axes>"
      ]
     },
     "metadata": {
      "needs_background": "light"
     },
     "output_type": "display_data"
    },
    {
     "data": {
      "image/png": "[encoded data removed]",
      "text/plain": [
       "<Figure size 432x288 with 1 Axes>"
      ]
     },
     "metadata": {
      "needs_background": "light"
     },
     "output_type": "display_data"
    }
   ],
   "source": [
    "plt.figure();\n",
    "plt.hist(nan_col_counts);\n",
    "plt.title('Column Missing Value Count Distribution', fontsize = 18);\n",
    "plt.xlabel('Missing Value Counts Per Column');\n",
    "plt.ylabel('Count Frequencies');\n",
    "\n",
    "plt.figure();\n",
    "plt.bar(range(azdias.shape[1]), nan_col_counts);\n",
    "plt.title('Missing Value Counts For Each Column', fontsize = 18);\n",
    "plt.xlabel('Column Index');\n",
    "plt.ylabel('Number of Missing Values');"
   ]
  },
  {
   "cell_type": "code",
   "execution_count": 11,
   "metadata": {},
   "outputs": [],
   "source": [
    "# Remove outlier columns\n",
    "\n",
    "outliers = []\n",
    "complete_cols = []\n",
    "\n",
    "for col in azdias.columns:\n",
    "    \n",
    "    if nan_col_counts[col] > int(2e5):\n",
    "        outliers.append(col)\n",
    "    elif nan_col_counts[col] == 0:\n",
    "        complete_cols.append(col)\n",
    "\n",
    "azdias_reduced = azdias.drop(outliers, axis = 1)"
   ]
  },
  {
   "cell_type": "code",
   "execution_count": 12,
   "metadata": {},
   "outputs": [
    {
     "name": "stdout",
     "output_type": "stream",
     "text": [
      "Outlier Columns:\n"
     ]
    },
    {
     "data": {
      "text/html": [
       "<div>\n",
       "<style scoped>\n",
       "    .dataframe tbody tr th:only-of-type {\n",
       "        vertical-align: middle;\n",
       "    }\n",
       "\n",
       "    .dataframe tbody tr th {\n",
       "        vertical-align: top;\n",
       "    }\n",
       "\n",
       "    .dataframe thead th {\n",
       "        text-align: right;\n",
       "    }\n",
       "</style>\n",
       "<table border=\"1\" class=\"dataframe\">\n",
       "  <thead>\n",
       "    <tr style=\"text-align: right;\">\n",
       "      <th></th>\n",
       "      <th>attribute</th>\n",
       "      <th>information_level</th>\n",
       "      <th>type</th>\n",
       "      <th>missing_or_unknown</th>\n",
       "    </tr>\n",
       "  </thead>\n",
       "  <tbody>\n",
       "    <tr>\n",
       "      <th>0</th>\n",
       "      <td>AGER_TYP</td>\n",
       "      <td>person</td>\n",
       "      <td>categorical</td>\n",
       "      <td>[-1,0]</td>\n",
       "    </tr>\n",
       "    <tr>\n",
       "      <th>11</th>\n",
       "      <td>GEBURTSJAHR</td>\n",
       "      <td>person</td>\n",
       "      <td>numeric</td>\n",
       "      <td>[0]</td>\n",
       "    </tr>\n",
       "    <tr>\n",
       "      <th>40</th>\n",
       "      <td>TITEL_KZ</td>\n",
       "      <td>person</td>\n",
       "      <td>categorical</td>\n",
       "      <td>[-1,0]</td>\n",
       "    </tr>\n",
       "    <tr>\n",
       "      <th>43</th>\n",
       "      <td>ALTER_HH</td>\n",
       "      <td>household</td>\n",
       "      <td>interval</td>\n",
       "      <td>[0]</td>\n",
       "    </tr>\n",
       "    <tr>\n",
       "      <th>47</th>\n",
       "      <td>KK_KUNDENTYP</td>\n",
       "      <td>household</td>\n",
       "      <td>categorical</td>\n",
       "      <td>[-1]</td>\n",
       "    </tr>\n",
       "    <tr>\n",
       "      <th>64</th>\n",
       "      <td>KBA05_BAUMAX</td>\n",
       "      <td>microcell_rr3</td>\n",
       "      <td>mixed</td>\n",
       "      <td>[-1,0]</td>\n",
       "    </tr>\n",
       "  </tbody>\n",
       "</table>\n",
       "</div>"
      ],
      "text/plain": [
       "       attribute information_level         type missing_or_unknown\n",
       "0       AGER_TYP            person  categorical             [-1,0]\n",
       "11   GEBURTSJAHR            person      numeric                [0]\n",
       "40      TITEL_KZ            person  categorical             [-1,0]\n",
       "43      ALTER_HH         household     interval                [0]\n",
       "47  KK_KUNDENTYP         household  categorical               [-1]\n",
       "64  KBA05_BAUMAX     microcell_rr3        mixed             [-1,0]"
      ]
     },
     "execution_count": 12,
     "metadata": {},
     "output_type": "execute_result"
    }
   ],
   "source": [
    "print('Outlier Columns:')\n",
    "feat_info[feat_info.attribute.isin(outliers)]"
   ]
  },
  {
   "cell_type": "code",
   "execution_count": 13,
   "metadata": {},
   "outputs": [],
   "source": [
    "nan_col_counts_reduced = azdias_reduced.isna().sum(axis = 0)"
   ]
  },
  {
   "cell_type": "code",
   "execution_count": 14,
   "metadata": {},
   "outputs": [
    {
     "data": {
      "image/png": "[encoded data removed]",
      "text/plain": [
       "<Figure size 432x288 with 1 Axes>"
      ]
     },
     "metadata": {
      "needs_background": "light"
     },
     "output_type": "display_data"
    },
    {
     "data": {
      "image/png": "[encoded data removed]",
      "text/plain": [
       "<Figure size 432x288 with 1 Axes>"
      ]
     },
     "metadata": {
      "needs_background": "light"
     },
     "output_type": "display_data"
    }
   ],
   "source": [
    "plt.figure();\n",
    "plt.hist(nan_col_counts_reduced);\n",
    "plt.title('Column Missing Value Count Distribution\\n(Outliers Removed)', fontsize = 18);\n",
    "plt.xlabel('Missing Value Counts Per Column');\n",
    "plt.ylabel('Count Frequencies');\n",
    "\n",
    "plt.figure();\n",
    "plt.bar(range(azdias_reduced.shape[1]), nan_col_counts_reduced);\n",
    "plt.title('Missing Value Counts For Each Column\\n(Outliers Removed)', fontsize = 18);\n",
    "plt.xlabel('Column Index');\n",
    "plt.ylabel('Number of Missing Values');"
   ]
  },
  {
   "cell_type": "code",
   "execution_count": 15,
   "metadata": {},
   "outputs": [
    {
     "name": "stdout",
     "output_type": "stream",
     "text": [
      "Number of column pairs that are highly correlated: 957\n",
      "Percentage of pairs of remaining columns that are not complete and highly correlated: 64.44444444444444%\n"
     ]
    }
   ],
   "source": [
    "# Investigate patterns in the amount of missing data in each column.\n",
    "\n",
    "cols = azdias_reduced.drop(complete_cols, axis = 1).columns\n",
    "n_cols = len(cols)\n",
    "num_strong_corr = 0\n",
    "\n",
    "for i in range(n_cols):\n",
    "    \n",
    "    for j in range(i, n_cols):\n",
    "        \n",
    "        if i == j:\n",
    "            continue\n",
    "        \n",
    "        col_corr = np.corrcoef(azdias[cols[i]].isna().astype(int), \n",
    "                               azdias[cols[j]].isna().astype(int))[0][1]\n",
    "        \n",
    "        if col_corr >= 0.5:\n",
    "            num_strong_corr += 1\n",
    "\n",
    "combinations = math.factorial(n_cols) / (2*math.factorial(n_cols - 2))\n",
    "\n",
    "print('Number of column pairs that are highly correlated: {}'.format(num_strong_corr))\n",
    "print('Percentage of pairs of remaining columns that are not ' + \\\n",
    "      'complete and highly correlated: {}%'.format(100*(num_strong_corr / combinations)))"
   ]
  },
  {
   "cell_type": "code",
   "execution_count": 153,
   "metadata": {},
   "outputs": [
    {
     "data": {
      "image/png": "[encoded data removed]",
      "text/plain": [
       "<matplotlib.figure.Figure at 0x7f1b3e020da0>"
      ]
     },
     "metadata": {
      "needs_background": "light"
     },
     "output_type": "display_data"
    }
   ],
   "source": [
    "plt.figure(figsize = (16, 16));\n",
    "sns.heatmap(azdias.drop(outliers, axis = 1).isnull(), cbar=False);\n",
    "plt.title('Missing Value Patterns', fontsize = 24);"
   ]
  },
  {
   "cell_type": "code",
   "execution_count": 16,
   "metadata": {},
   "outputs": [
    {
     "data": {
      "text/plain": [
       "(891221, 79)"
      ]
     },
     "execution_count": 16,
     "metadata": {},
     "output_type": "execute_result"
    }
   ],
   "source": [
    "azdias = azdias_reduced\n",
    "azdias.shape"
   ]
  },
  {
   "cell_type": "markdown",
   "metadata": {},
   "source": [
    "#### Discussion 1.1.2: Assess Missing Data in Each Column\n",
    "\n",
    "The bar graph and histogram for the non-reduced data set indicate that the majority of the columns contain less than 200,000 missing values while the columns AGER_TYP, GEBURTSJAHR, TITEL_KZ, ALTER_HH, KK_KUNDENTYP, and KBA05_BAUMAX contained significantly more missing values.  The information contained in AGER_TYP, GEBURTSJAHR, ALTER_HH, and TITLE_KZ pertain mainly to age and academic level while that contained in KK_KUNDENTYP and KBA05_BAUMAX pertain to consumer patterns and household size. These six columns were removed from the reduced data set.  \n",
    "\n",
    "For the remaining columns, the heatmap suggests that the missing values within each column are distributed irregularily but the rows at which the missing values occur are significantly correlated between the columns. It was calculated that 64% of the column pairs were highly correlated ($R \\geq 0.5$) in reguard to missing value row locations. This suggests that if there is a deficit of information about a given feature for an invidual, there is a deficit of information about that individual in general."
   ]
  },
  {
   "cell_type": "markdown",
   "metadata": {},
   "source": [
    "#### Step 1.1.3: Assess Missing Data in Each Row\n",
    "\n",
    "Now, you'll perform a similar assessment for the rows of the dataset. How much data is missing in each row? As with the columns, you should see some groups of points that have a very different numbers of missing values. Divide the data into two subsets: one for data points that are above some threshold for missing values, and a second subset for points below that threshold.\n",
    "\n",
    "In order to know what to do with the outlier rows, we should see if the distribution of data values on columns that are not missing data (or are missing very little data) are similar or different between the two groups. Select at least five of these columns and compare the distribution of values.\n",
    "- You can use seaborn's [`countplot()`](https://seaborn.pydata.org/generated/seaborn.countplot.html) function to create a bar chart of code frequencies and matplotlib's [`subplot()`](https://matplotlib.org/api/_as_gen/matplotlib.pyplot.subplot.html) function to put bar charts for the two subplots side by side.\n",
    "- To reduce repeated code, you might want to write a function that can perform this comparison, taking as one of its arguments a column to be compared.\n",
    "\n",
    "Depending on what you observe in your comparison, this will have implications on how you approach your conclusions later in the analysis. If the distributions of non-missing features look similar between the data with many missing values and the data with few or no missing values, then we could argue that simply dropping those points from the analysis won't present a major issue. On the other hand, if the data with many missing values looks very different from the data with few or no missing values, then we should make a note on those data as special. We'll revisit these data later on. **Either way, you should continue your analysis for now using just the subset of the data with few or no missing values.**"
   ]
  },
  {
   "cell_type": "code",
   "execution_count": 17,
   "metadata": {},
   "outputs": [],
   "source": [
    "# How much data is missing in each row of the dataset?\n",
    "nan_row_counts = azdias.isna().sum(axis = 1)"
   ]
  },
  {
   "cell_type": "code",
   "execution_count": 18,
   "metadata": {},
   "outputs": [
    {
     "data": {
      "image/png": "[encoded data removed]",
      "text/plain": [
       "<Figure size 432x288 with 1 Axes>"
      ]
     },
     "metadata": {
      "needs_background": "light"
     },
     "output_type": "display_data"
    }
   ],
   "source": [
    "plt.figure();\n",
    "plt.hist(nan_row_counts);\n",
    "plt.title('Row Missing Value Count Distribution', fontsize = 18);\n",
    "plt.xlabel('Missing Value Counts Per Row');\n",
    "plt.ylabel('Count Frequencies');"
   ]
  },
  {
   "cell_type": "code",
   "execution_count": 19,
   "metadata": {},
   "outputs": [],
   "source": [
    "# Write code to divide the data into two subsets based on the number of missing\n",
    "# values in each row.\n",
    "\n",
    "azdias_high_mv = azdias[nan_row_counts > 10]\n",
    "azdias_low_mv = azdias[nan_row_counts <= 10]"
   ]
  },
  {
   "cell_type": "code",
   "execution_count": 20,
   "metadata": {},
   "outputs": [
    {
     "data": {
      "image/png": "[encoded data removed]",
      "text/plain": [
       "<Figure size 1152x1152 with 10 Axes>"
      ]
     },
     "metadata": {
      "needs_background": "light"
     },
     "output_type": "display_data"
    }
   ],
   "source": [
    "# Compare the distribution of values for at least five columns where there are\n",
    "# no or few missing values, between the two subsets.\n",
    "\n",
    "cols = np.random.choice(complete_cols, size = (5,))\n",
    "plot_index = 1\n",
    "plt.figure(figsize = (16, 16))\n",
    "\n",
    "for col in cols:\n",
    "    \n",
    "    plt.subplot(5, 2, plot_index)\n",
    "    sns.countplot(azdias_high_mv[col])\n",
    "    \n",
    "    if plot_index == 1:\n",
    "        plt.title('Sub-Data High in Missing Values')\n",
    "    \n",
    "    plt.subplot(5, 2, plot_index + 1)\n",
    "    sns.countplot(azdias_low_mv[col])\n",
    "    \n",
    "    if plot_index == 1:\n",
    "        plt.title('Sub-Data Low in Missing Values')\n",
    "    \n",
    "    plot_index += 2"
   ]
  },
  {
   "cell_type": "code",
   "execution_count": 21,
   "metadata": {},
   "outputs": [
    {
     "data": {
      "text/plain": [
       "(780153, 79)"
      ]
     },
     "execution_count": 21,
     "metadata": {},
     "output_type": "execute_result"
    }
   ],
   "source": [
    "azdias = azdias_low_mv\n",
    "azdias.shape"
   ]
  },
  {
   "cell_type": "markdown",
   "metadata": {},
   "source": [
    "#### Discussion 1.1.3: Assess Missing Data in Each Row\n",
    "The row-missing-value histogram shows that most rows contain less than 10 missing features hence the data was split such that the high-missing-feature subset contained rows missing more than 10 features while the low-missing-feature subset contained rows missing less than or equal to 10 features.  Furthermore, the distributions of complete columns differ significantly between the data in the two subsets.  For the high-missing-features data, a single value has a disproportionaltly high frequency while the value frequencies for the low-missing-feature data are evenly distributed across the range of feature values."
   ]
  },
  {
   "cell_type": "markdown",
   "metadata": {},
   "source": [
    "### Step 1.2: Select and Re-Encode Features\n",
    "\n",
    "Checking for missing data isn't the only way in which you can prepare a dataset for analysis. Since the unsupervised learning techniques to be used will only work on data that is encoded numerically, you need to make a few encoding changes or additional assumptions to be able to make progress. In addition, while almost all of the values in the dataset are encoded using numbers, not all of them represent numeric values. Check the third column of the feature summary (`feat_info`) for a summary of types of measurement.\n",
    "- For numeric and interval data, these features can be kept without changes.\n",
    "- Most of the variables in the dataset are ordinal in nature. While ordinal values may technically be non-linear in spacing, make the simplifying assumption that the ordinal variables can be treated as being interval in nature (that is, kept without any changes).\n",
    "- Special handling may be necessary for the remaining two variable types: categorical, and 'mixed'.\n",
    "\n",
    "In the first two parts of this sub-step, you will perform an investigation of the categorical and mixed-type features and make a decision on each of them, whether you will keep, drop, or re-encode each. Then, in the last part, you will create a new data frame with only the selected and engineered columns.\n",
    "\n",
    "Data wrangling is often the trickiest part of the data analysis process, and there's a lot of it to be done here. But stick with it: once you're done with this step, you'll be ready to get to the machine learning parts of the project!"
   ]
  },
  {
   "cell_type": "code",
   "execution_count": 22,
   "metadata": {},
   "outputs": [
    {
     "data": {
      "text/plain": [
       "ordinal        49\n",
       "categorical    21\n",
       "numeric         7\n",
       "mixed           7\n",
       "interval        1\n",
       "Name: type, dtype: int64"
      ]
     },
     "execution_count": 22,
     "metadata": {},
     "output_type": "execute_result"
    }
   ],
   "source": [
    "# How many features are there of each data type?\n",
    "feat_type_counts = feat_info.type.value_counts()\n",
    "feat_type_counts"
   ]
  },
  {
   "cell_type": "markdown",
   "metadata": {},
   "source": [
    "#### Step 1.2.1: Re-Encode Categorical Features\n",
    "\n",
    "For categorical data, you would ordinarily need to encode the levels as dummy variables. Depending on the number of categories, perform one of the following:\n",
    "- For binary (two-level) categoricals that take numeric values, you can keep them without needing to do anything.\n",
    "- There is one binary variable that takes on non-numeric values. For this one, you need to re-encode the values as numbers or create a dummy variable.\n",
    "- For multi-level categoricals (three or more values), you can choose to encode the values using multiple dummy variables (e.g. via [OneHotEncoder](http://scikit-learn.org/stable/modules/generated/sklearn.preprocessing.OneHotEncoder.html)), or (to keep things straightforward) just drop them from the analysis. As always, document your choices in the Discussion section."
   ]
  },
  {
   "cell_type": "code",
   "execution_count": 23,
   "metadata": {},
   "outputs": [
    {
     "name": "stdout",
     "output_type": "stream",
     "text": [
      "Categorical Features: 18\n",
      "\tANREDE_KZ\n",
      "\tCJT_GESAMTTYP\n",
      "\tFINANZTYP\n",
      "\tGFK_URLAUBERTYP\n",
      "\tGREEN_AVANTGARDE\n",
      "\tLP_FAMILIE_FEIN\n",
      "\tLP_FAMILIE_GROB\n",
      "\tLP_STATUS_FEIN\n",
      "\tLP_STATUS_GROB\n",
      "\tNATIONALITAET_KZ\n",
      "\tSHOPPER_TYP\n",
      "\tSOHO_KZ\n",
      "\tVERS_TYP\n",
      "\tZABEOTYP\n",
      "\tGEBAEUDETYP\n",
      "\tOST_WEST_KZ\n",
      "\tCAMEO_DEUG_2015\n",
      "\tCAMEO_DEU_2015\n"
     ]
    }
   ],
   "source": [
    "# Assess categorical variables: which are binary, which are multi-level, and\n",
    "# which one needs to be re-encoded?\n",
    "\n",
    "cat_feats = feat_info[(feat_info.type == 'categorical') & \\\n",
    "                       feat_info.attribute.isin(azdias.columns)]['attribute']\n",
    "\n",
    "print('Categorical Features: {}'.format(len(cat_feats)))\n",
    "for feat in cat_feats:\n",
    "    print('\\t' + feat)"
   ]
  },
  {
   "cell_type": "code",
   "execution_count": 24,
   "metadata": {},
   "outputs": [
    {
     "name": "stdout",
     "output_type": "stream",
     "text": [
      "Binary Categorical Features: 5\n",
      "\tANREDE_KZ\n",
      "\tGREEN_AVANTGARDE\n",
      "\tSOHO_KZ\n",
      "\tVERS_TYP\n",
      "\tOST_WEST_KZ\n",
      "\n",
      "Mulit-level Categorical Features: 13\n",
      "\tCJT_GESAMTTYP\n",
      "\tFINANZTYP\n",
      "\tGFK_URLAUBERTYP\n",
      "\tLP_FAMILIE_FEIN\n",
      "\tLP_FAMILIE_GROB\n",
      "\tLP_STATUS_FEIN\n",
      "\tLP_STATUS_GROB\n",
      "\tNATIONALITAET_KZ\n",
      "\tSHOPPER_TYP\n",
      "\tZABEOTYP\n",
      "\tGEBAEUDETYP\n",
      "\tCAMEO_DEUG_2015\n",
      "\tCAMEO_DEU_2015\n"
     ]
    }
   ],
   "source": [
    "unique_val_counts = azdias[cat_feats].nunique()\n",
    "binary_cat_feats = unique_val_counts[unique_val_counts == 2].index\n",
    "multi_level_cat_feats = unique_val_counts[unique_val_counts > 2].index\n",
    "\n",
    "print('Binary Categorical Features: {}'.format(len(binary_cat_feats)))\n",
    "for feat in binary_cat_feats:\n",
    "    print('\\t' + feat)\n",
    "\n",
    "print('\\nMulit-level Categorical Features: {}'.format(len(multi_level_cat_feats)))\n",
    "for feat in multi_level_cat_feats:\n",
    "    print('\\t' + feat)"
   ]
  },
  {
   "cell_type": "code",
   "execution_count": 25,
   "metadata": {},
   "outputs": [
    {
     "name": "stdout",
     "output_type": "stream",
     "text": [
      "Non-numeric binary categorical variable: OST_WEST_KZ\n"
     ]
    }
   ],
   "source": [
    "reencoded_binary_feat = ''\n",
    "for feat in binary_cat_feats:\n",
    "    if isinstance(azdias[feat][1], str):\n",
    "        reencoded_binary_feat = feat\n",
    "        break\n",
    "print('Non-numeric binary categorical variable: {}'.format(reencoded_binary_feat))"
   ]
  },
  {
   "cell_type": "code",
   "execution_count": 26,
   "metadata": {},
   "outputs": [
    {
     "name": "stderr",
     "output_type": "stream",
     "text": [
      "/home/ryan/anaconda3/lib/python3.7/site-packages/pandas/core/indexing.py:543: SettingWithCopyWarning: \n",
      "A value is trying to be set on a copy of a slice from a DataFrame.\n",
      "Try using .loc[row_indexer,col_indexer] = value instead\n",
      "\n",
      "See the caveats in the documentation: http://pandas.pydata.org/pandas-docs/stable/indexing.html#indexing-view-versus-copy\n",
      "  self.obj[item] = s\n"
     ]
    }
   ],
   "source": [
    "# Re-encode categorical variable(s) to be kept in the analysis.\n",
    "\n",
    "vals = azdias[reencoded_binary_feat].unique()\n",
    "val_map = {old_val: new_val for old_val, new_val in zip(vals, (0, 1))}\n",
    "\n",
    "azdias.loc[:, reencoded_binary_feat] = azdias[reencoded_binary_feat].map(val_map)\n",
    "\n",
    "azdias = azdias.drop(multi_level_cat_feats, axis = 1)"
   ]
  },
  {
   "cell_type": "code",
   "execution_count": 27,
   "metadata": {},
   "outputs": [
    {
     "data": {
      "text/plain": [
       "(780153, 66)"
      ]
     },
     "execution_count": 27,
     "metadata": {},
     "output_type": "execute_result"
    }
   ],
   "source": [
    "azdias.shape"
   ]
  },
  {
   "cell_type": "markdown",
   "metadata": {},
   "source": [
    "#### Discussion 1.2.1: Re-Encode Categorical Features\n",
    "There are 18 categorical features in total. Of which, five are binary and 13 are multi-level. All of the the binary features were unaltered except the OST_WEST_KZ feature which uses non-numeric values to encode the classes. The values of this featured were mapped to the values of 1 and 0 and the feature was then added back into the data set.  In order to maintain simplicity and a small feature space, all multi-level categorical features were removed from the data set.  "
   ]
  },
  {
   "cell_type": "markdown",
   "metadata": {},
   "source": [
    "#### Step 1.2.2: Engineer Mixed-Type Features\n",
    "\n",
    "There are a handful of features that are marked as \"mixed\" in the feature summary that require special treatment in order to be included in the analysis. There are two in particular that deserve attention; the handling of the rest are up to your own choices:\n",
    "- \"PRAEGENDE_JUGENDJAHRE\" combines information on three dimensions: generation by decade, movement (mainstream vs. avantgarde), and nation (east vs. west). While there aren't enough levels to disentangle east from west, you should create two new variables to capture the other two dimensions: an interval-type variable for decade, and a binary variable for movement.\n",
    "- \"CAMEO_INTL_2015\" combines information on two axes: wealth and life stage. Break up the two-digit codes by their 'tens'-place and 'ones'-place digits into two new ordinal variables (which, for the purposes of this project, is equivalent to just treating them as their raw numeric values).\n",
    "- If you decide to keep or engineer new features around the other mixed-type features, make sure you note your steps in the Discussion section.\n",
    "\n",
    "Be sure to check `Data_Dictionary.md` for the details needed to finish these tasks."
   ]
  },
  {
   "cell_type": "code",
   "execution_count": 28,
   "metadata": {},
   "outputs": [
    {
     "name": "stdout",
     "output_type": "stream",
     "text": [
      "PRAEGENDE_JUGENDJAHRE Value Counts:\n",
      "14.0    178410\n",
      "8.0     138678\n",
      "10.0     83881\n",
      "5.0      83645\n",
      "3.0      53098\n",
      "15.0     41029\n",
      "11.0     34642\n",
      "9.0      33197\n",
      "6.0      25517\n",
      "12.0     24034\n",
      "4.0      20343\n",
      "1.0      20242\n",
      "2.0       7438\n",
      "13.0      5561\n",
      "7.0       3964\n",
      "Name: PRAEGENDE_JUGENDJAHRE, dtype: int64\n"
     ]
    }
   ],
   "source": [
    "print('PRAEGENDE_JUGENDJAHRE Value Counts:')\n",
    "print(azdias['PRAEGENDE_JUGENDJAHRE'].value_counts())"
   ]
  },
  {
   "cell_type": "code",
   "execution_count": 29,
   "metadata": {},
   "outputs": [],
   "source": [
    "# Investigate \"PRAEGENDE_JUGENDJAHRE\" and engineer two new variables.\n",
    "pj_val_map = \\\n",
    "{\n",
    "  1.0: (40, 1),\n",
    "  2.0: (40, 0),\n",
    "  3.0: (50, 1),\n",
    "  4.0: (50, 0),\n",
    "  5.0: (60, 1),\n",
    "  6.0: (60, 0),\n",
    "  7.0: (60, 0),\n",
    "  8.0: (70, 1),\n",
    "  9.0: (70, 0),\n",
    " 10.0: (80, 1),\n",
    " 11.0: (80, 0),\n",
    " 12.0: (80, 1),\n",
    " 13.0: (80, 0),\n",
    " 14.0: (90, 1),\n",
    " 15.0: (90, 0)\n",
    "}\n",
    "\n",
    "'''\n",
    "-  1: 40s - war years (Mainstream, E+W)\n",
    "-  2: 40s - reconstruction years (Avantgarde, E+W)\n",
    "-  3: 50s - economic miracle (Mainstream, E+W)\n",
    "-  4: 50s - milk bar / Individualisation (Avantgarde, E+W)\n",
    "-  5: 60s - economic miracle (Mainstream, E+W)\n",
    "-  6: 60s - generation 68 / student protestors (Avantgarde, W)\n",
    "-  7: 60s - opponents to the building of the Wall (Avantgarde, E)\n",
    "-  8: 70s - family orientation (Mainstream, E+W)\n",
    "-  9: 70s - peace movement (Avantgarde, E+W)\n",
    "- 10: 80s - Generation Golf (Mainstream, W)\n",
    "- 11: 80s - ecological awareness (Avantgarde, W)\n",
    "- 12: 80s - FDJ / communist party youth organisation (Mainstream, E)\n",
    "- 13: 80s - Swords into ploughshares (Avantgarde, E)\n",
    "- 14: 90s - digital media kids (Mainstream, E+W)\n",
    "- 15: 90s - ecological awareness (Avantgarde, E+W)\n",
    "''';"
   ]
  },
  {
   "cell_type": "code",
   "execution_count": 30,
   "metadata": {},
   "outputs": [],
   "source": [
    "gen_by_decade = []\n",
    "gen_movement = []\n",
    "\n",
    "for index in azdias['PRAEGENDE_JUGENDJAHRE'].values:\n",
    "    \n",
    "    if np.isnan(index):\n",
    "        \n",
    "        gen_by_decade.append(np.nan)\n",
    "        gen_movement.append(np.nan)\n",
    "        \n",
    "        continue\n",
    "    \n",
    "    gen_by_decade.append(pj_val_map[index][0])\n",
    "    gen_movement.append(pj_val_map[index][1])\n",
    "\n",
    "gen_by_decade = np.array(gen_by_decade)\n",
    "gen_movement = np.array(gen_movement)    "
   ]
  },
  {
   "cell_type": "code",
   "execution_count": 31,
   "metadata": {},
   "outputs": [
    {
     "name": "stdout",
     "output_type": "stream",
     "text": [
      "CAMEO_INTL_2015 Value Counts:\n",
      "51    132853\n",
      "41     91071\n",
      "24     89200\n",
      "14     61422\n",
      "43     55836\n",
      "54     45004\n",
      "25     38860\n",
      "22     32235\n",
      "45     25771\n",
      "13     25659\n",
      "23     24280\n",
      "55     23609\n",
      "52     20388\n",
      "34     18237\n",
      "31     17853\n",
      "15     16735\n",
      "44     14593\n",
      "12     12890\n",
      "35     10212\n",
      "32     10153\n",
      "33      9636\n",
      "Name: CAMEO_INTL_2015, dtype: int64\n"
     ]
    }
   ],
   "source": [
    "print('CAMEO_INTL_2015 Value Counts:')\n",
    "print(azdias['CAMEO_INTL_2015'].value_counts())"
   ]
  },
  {
   "cell_type": "code",
   "execution_count": 32,
   "metadata": {},
   "outputs": [],
   "source": [
    "# Investigate \"CAMEO_INTL_2015\" and engineer two new variables.\n",
    "wealth = []\n",
    "life_stage = []\n",
    "\n",
    "for val in azdias['CAMEO_INTL_2015']:\n",
    "    \n",
    "    if isinstance(val, str):\n",
    "        \n",
    "        val = int(val)\n",
    "        \n",
    "        ones_digit = int(val % 10)\n",
    "        tens_digit = val // 10\n",
    "    \n",
    "        wealth.append(ones_digit)\n",
    "        life_stage.append(tens_digit)\n",
    "        \n",
    "    else:\n",
    "        \n",
    "        wealth.append(np.nan)\n",
    "        life_stage.append(np.nan)\n",
    "    \n",
    "\n",
    "wealth = np.array(wealth)\n",
    "life_stage = np.array(life_stage)"
   ]
  },
  {
   "cell_type": "code",
   "execution_count": 33,
   "metadata": {},
   "outputs": [],
   "source": [
    "mixed_feats = feat_info[(feat_info.type == 'mixed') & \\\n",
    "                       feat_info.attribute.isin(azdias.columns)]['attribute']\n",
    "\n",
    "azdias = azdias.drop(mixed_feats, axis = 1)"
   ]
  },
  {
   "cell_type": "code",
   "execution_count": 34,
   "metadata": {},
   "outputs": [
    {
     "data": {
      "text/plain": [
       "15      LP_LEBENSPHASE_FEIN\n",
       "16      LP_LEBENSPHASE_GROB\n",
       "22    PRAEGENDE_JUGENDJAHRE\n",
       "56                 WOHNLAGE\n",
       "59          CAMEO_INTL_2015\n",
       "79              PLZ8_BAUMAX\n",
       "Name: attribute, dtype: object"
      ]
     },
     "execution_count": 34,
     "metadata": {},
     "output_type": "execute_result"
    }
   ],
   "source": [
    "mixed_feats"
   ]
  },
  {
   "cell_type": "code",
   "execution_count": 35,
   "metadata": {},
   "outputs": [],
   "source": [
    "azdias['wealth'] = wealth\n",
    "azdias['life_stage'] = life_stage\n",
    "azdias['gen_by_decade'] = gen_by_decade\n",
    "azdias['gen_movement'] = gen_movement"
   ]
  },
  {
   "cell_type": "code",
   "execution_count": 36,
   "metadata": {},
   "outputs": [
    {
     "data": {
      "text/plain": [
       "(780153, 64)"
      ]
     },
     "execution_count": 36,
     "metadata": {},
     "output_type": "execute_result"
    }
   ],
   "source": [
    "azdias.shape"
   ]
  },
  {
   "cell_type": "markdown",
   "metadata": {},
   "source": [
    "#### Discussion 1.2.2: Engineer Mixed-Type Features\n",
    "There were six mixed features remaining in the data set before the following processes were performed.  Of these six, the PRAEGENDE_JUGENDJAHRE and CAMEO_INTL_2015 features were transformed into four new features. For the PRAEGENDE_JUGENDJAHRE feature, the information pertaining to the decade and type of cultural movement each individual experienced during his or her youth was extracted and stored in the new features called gen_by_decade and gen_movement. The feature gen_movement is coded as a binary categorical variable with values mapped to 1 and 0 representing mainstream and avantgarde movement types respectively while the gen_by_decade variable is of the interval type and contains values equal to the decades of the 1900s.   All mixed features columns were removed from the data set and the four engineered features were added. "
   ]
  },
  {
   "cell_type": "markdown",
   "metadata": {},
   "source": [
    "#### Step 1.2.3: Complete Feature Selection\n",
    "\n",
    "In order to finish this step up, you need to make sure that your data frame now only has the columns that you want to keep. To summarize, the dataframe should consist of the following:\n",
    "- All numeric, interval, and ordinal type columns from the original dataset.\n",
    "- Binary categorical features (all numerically-encoded).\n",
    "- Engineered features from other multi-level categorical features and mixed features.\n",
    "\n",
    "Make sure that for any new columns that you have engineered, that you've excluded the original columns from the final dataset. Otherwise, their values will interfere with the analysis later on the project. For example, you should not keep \"PRAEGENDE_JUGENDJAHRE\", since its values won't be useful for the algorithm: only the values derived from it in the engineered features you created should be retained. As a reminder, your data should only be from **the subset with few or no missing values**."
   ]
  },
  {
   "cell_type": "code",
   "execution_count": 37,
   "metadata": {},
   "outputs": [
    {
     "data": {
      "text/html": [
       "<div>\n",
       "<style scoped>\n",
       "    .dataframe tbody tr th:only-of-type {\n",
       "        vertical-align: middle;\n",
       "    }\n",
       "\n",
       "    .dataframe tbody tr th {\n",
       "        vertical-align: top;\n",
       "    }\n",
       "\n",
       "    .dataframe thead th {\n",
       "        text-align: right;\n",
       "    }\n",
       "</style>\n",
       "<table border=\"1\" class=\"dataframe\">\n",
       "  <thead>\n",
       "    <tr style=\"text-align: right;\">\n",
       "      <th></th>\n",
       "      <th>ALTERSKATEGORIE_GROB</th>\n",
       "      <th>ANREDE_KZ</th>\n",
       "      <th>FINANZ_MINIMALIST</th>\n",
       "      <th>FINANZ_SPARER</th>\n",
       "      <th>FINANZ_VORSORGER</th>\n",
       "      <th>FINANZ_ANLEGER</th>\n",
       "      <th>FINANZ_UNAUFFAELLIGER</th>\n",
       "      <th>FINANZ_HAUSBAUER</th>\n",
       "      <th>GREEN_AVANTGARDE</th>\n",
       "      <th>HEALTH_TYP</th>\n",
       "      <th>...</th>\n",
       "      <th>PLZ8_ANTG4</th>\n",
       "      <th>PLZ8_HHZ</th>\n",
       "      <th>PLZ8_GBZ</th>\n",
       "      <th>ARBEIT</th>\n",
       "      <th>ORTSGR_KLS9</th>\n",
       "      <th>RELAT_AB</th>\n",
       "      <th>wealth</th>\n",
       "      <th>life_stage</th>\n",
       "      <th>gen_by_decade</th>\n",
       "      <th>gen_movement</th>\n",
       "    </tr>\n",
       "  </thead>\n",
       "  <tbody>\n",
       "    <tr>\n",
       "      <th>1</th>\n",
       "      <td>1.0</td>\n",
       "      <td>2.0</td>\n",
       "      <td>1.0</td>\n",
       "      <td>5.0</td>\n",
       "      <td>2.0</td>\n",
       "      <td>5.0</td>\n",
       "      <td>4.0</td>\n",
       "      <td>5.0</td>\n",
       "      <td>0.0</td>\n",
       "      <td>3.0</td>\n",
       "      <td>...</td>\n",
       "      <td>1.0</td>\n",
       "      <td>5.0</td>\n",
       "      <td>4.0</td>\n",
       "      <td>3.0</td>\n",
       "      <td>5.0</td>\n",
       "      <td>4.0</td>\n",
       "      <td>1.0</td>\n",
       "      <td>5.0</td>\n",
       "      <td>90.0</td>\n",
       "      <td>1.0</td>\n",
       "    </tr>\n",
       "    <tr>\n",
       "      <th>2</th>\n",
       "      <td>3.0</td>\n",
       "      <td>2.0</td>\n",
       "      <td>1.0</td>\n",
       "      <td>4.0</td>\n",
       "      <td>1.0</td>\n",
       "      <td>2.0</td>\n",
       "      <td>3.0</td>\n",
       "      <td>5.0</td>\n",
       "      <td>1.0</td>\n",
       "      <td>3.0</td>\n",
       "      <td>...</td>\n",
       "      <td>0.0</td>\n",
       "      <td>4.0</td>\n",
       "      <td>4.0</td>\n",
       "      <td>3.0</td>\n",
       "      <td>5.0</td>\n",
       "      <td>2.0</td>\n",
       "      <td>4.0</td>\n",
       "      <td>2.0</td>\n",
       "      <td>90.0</td>\n",
       "      <td>0.0</td>\n",
       "    </tr>\n",
       "    <tr>\n",
       "      <th>3</th>\n",
       "      <td>4.0</td>\n",
       "      <td>2.0</td>\n",
       "      <td>4.0</td>\n",
       "      <td>2.0</td>\n",
       "      <td>5.0</td>\n",
       "      <td>2.0</td>\n",
       "      <td>1.0</td>\n",
       "      <td>2.0</td>\n",
       "      <td>0.0</td>\n",
       "      <td>2.0</td>\n",
       "      <td>...</td>\n",
       "      <td>0.0</td>\n",
       "      <td>3.0</td>\n",
       "      <td>4.0</td>\n",
       "      <td>2.0</td>\n",
       "      <td>3.0</td>\n",
       "      <td>3.0</td>\n",
       "      <td>2.0</td>\n",
       "      <td>1.0</td>\n",
       "      <td>70.0</td>\n",
       "      <td>1.0</td>\n",
       "    </tr>\n",
       "    <tr>\n",
       "      <th>4</th>\n",
       "      <td>3.0</td>\n",
       "      <td>1.0</td>\n",
       "      <td>4.0</td>\n",
       "      <td>3.0</td>\n",
       "      <td>4.0</td>\n",
       "      <td>1.0</td>\n",
       "      <td>3.0</td>\n",
       "      <td>2.0</td>\n",
       "      <td>0.0</td>\n",
       "      <td>3.0</td>\n",
       "      <td>...</td>\n",
       "      <td>1.0</td>\n",
       "      <td>3.0</td>\n",
       "      <td>3.0</td>\n",
       "      <td>4.0</td>\n",
       "      <td>6.0</td>\n",
       "      <td>5.0</td>\n",
       "      <td>3.0</td>\n",
       "      <td>4.0</td>\n",
       "      <td>70.0</td>\n",
       "      <td>1.0</td>\n",
       "    </tr>\n",
       "    <tr>\n",
       "      <th>5</th>\n",
       "      <td>1.0</td>\n",
       "      <td>2.0</td>\n",
       "      <td>3.0</td>\n",
       "      <td>1.0</td>\n",
       "      <td>5.0</td>\n",
       "      <td>2.0</td>\n",
       "      <td>2.0</td>\n",
       "      <td>5.0</td>\n",
       "      <td>0.0</td>\n",
       "      <td>3.0</td>\n",
       "      <td>...</td>\n",
       "      <td>1.0</td>\n",
       "      <td>5.0</td>\n",
       "      <td>5.0</td>\n",
       "      <td>2.0</td>\n",
       "      <td>3.0</td>\n",
       "      <td>3.0</td>\n",
       "      <td>4.0</td>\n",
       "      <td>5.0</td>\n",
       "      <td>50.0</td>\n",
       "      <td>1.0</td>\n",
       "    </tr>\n",
       "  </tbody>\n",
       "</table>\n",
       "<p>5 rows × 64 columns</p>\n",
       "</div>"
      ],
      "text/plain": [
       "   ALTERSKATEGORIE_GROB  ANREDE_KZ  FINANZ_MINIMALIST  FINANZ_SPARER  \\\n",
       "1                   1.0        2.0                1.0            5.0   \n",
       "2                   3.0        2.0                1.0            4.0   \n",
       "3                   4.0        2.0                4.0            2.0   \n",
       "4                   3.0        1.0                4.0            3.0   \n",
       "5                   1.0        2.0                3.0            1.0   \n",
       "\n",
       "   FINANZ_VORSORGER  FINANZ_ANLEGER  FINANZ_UNAUFFAELLIGER  FINANZ_HAUSBAUER  \\\n",
       "1               2.0             5.0                    4.0               5.0   \n",
       "2               1.0             2.0                    3.0               5.0   \n",
       "3               5.0             2.0                    1.0               2.0   \n",
       "4               4.0             1.0                    3.0               2.0   \n",
       "5               5.0             2.0                    2.0               5.0   \n",
       "\n",
       "   GREEN_AVANTGARDE  HEALTH_TYP  ...  PLZ8_ANTG4  PLZ8_HHZ  PLZ8_GBZ  ARBEIT  \\\n",
       "1               0.0         3.0  ...         1.0       5.0       4.0     3.0   \n",
       "2               1.0         3.0  ...         0.0       4.0       4.0     3.0   \n",
       "3               0.0         2.0  ...         0.0       3.0       4.0     2.0   \n",
       "4               0.0         3.0  ...         1.0       3.0       3.0     4.0   \n",
       "5               0.0         3.0  ...         1.0       5.0       5.0     2.0   \n",
       "\n",
       "   ORTSGR_KLS9  RELAT_AB  wealth  life_stage  gen_by_decade  gen_movement  \n",
       "1          5.0       4.0     1.0         5.0           90.0           1.0  \n",
       "2          5.0       2.0     4.0         2.0           90.0           0.0  \n",
       "3          3.0       3.0     2.0         1.0           70.0           1.0  \n",
       "4          6.0       5.0     3.0         4.0           70.0           1.0  \n",
       "5          3.0       3.0     4.0         5.0           50.0           1.0  \n",
       "\n",
       "[5 rows x 64 columns]"
      ]
     },
     "execution_count": 37,
     "metadata": {},
     "output_type": "execute_result"
    }
   ],
   "source": [
    "# If there are other re-engineering tasks you need to perform, make sure you\n",
    "# take care of them here. (Dealing with missing data will come in step 2.1.)\n",
    "azdias.head()"
   ]
  },
  {
   "cell_type": "code",
   "execution_count": 38,
   "metadata": {},
   "outputs": [
    {
     "data": {
      "text/plain": [
       "(780153, 64)"
      ]
     },
     "execution_count": 38,
     "metadata": {},
     "output_type": "execute_result"
    }
   ],
   "source": [
    "# Do whatever you need to in order to ensure that the dataframe only contains\n",
    "# the columns that should be passed to the algorithm functions.\n",
    "azdias.shape"
   ]
  },
  {
   "cell_type": "markdown",
   "metadata": {},
   "source": [
    "### Step 1.3: Create a Cleaning Function\n",
    "\n",
    "Even though you've finished cleaning up the general population demographics data, it's important to look ahead to the future and realize that you'll need to perform the same cleaning steps on the customer demographics data. In this substep, complete the function below to execute the main feature selection, encoding, and re-engineering steps you performed above. Then, when it comes to looking at the customer data in Step 3, you can just run this function on that DataFrame to get the trimmed dataset in a single step."
   ]
  },
  {
   "cell_type": "code",
   "execution_count": 39,
   "metadata": {},
   "outputs": [],
   "source": [
    "def clean_data(df):\n",
    "    \"\"\"\n",
    "    Perform feature trimming, re-encoding, and engineering for demographics\n",
    "    data\n",
    "    \n",
    "    INPUT: Demographics DataFrame\n",
    "    OUTPUT: Trimmed and cleaned demographics DataFrame\n",
    "    \"\"\"\n",
    "    \n",
    "    # Put in code here to execute all main cleaning steps:\n",
    "    # convert missing value codes into NaNs, ...\n",
    "    for col in df.columns:\n",
    "    \n",
    "        missing_value_code = feat_info[feat_info.attribute == col]['missing_or_unknown'].item()\n",
    "        missing_value_code = missing_value_code_to_list(missing_value_code)\n",
    "\n",
    "        df.loc[df[col].isin(missing_value_code), col] = np.nan\n",
    "    \n",
    "    # remove selected columns and rows, ...\n",
    "    \n",
    "    df = df.drop(outliers, axis = 1)\n",
    "    \n",
    "    nan_row_counts = df.isna().sum(axis = 1) \n",
    "    df = df[nan_row_counts <= 10]\n",
    "    \n",
    "    # select, re-encode, and engineer column values.\n",
    "    \n",
    "    vals = df[reencoded_binary_feat].unique()\n",
    "    val_map = {old_val: new_val for old_val, new_val in zip(vals, (0, 1))}\n",
    "\n",
    "    df.loc[:, reencoded_binary_feat] = df[reencoded_binary_feat].map(val_map)\n",
    "\n",
    "    df = df.drop(multi_level_cat_feats, axis = 1)\n",
    "    \n",
    "    gen_by_decade = []\n",
    "    gen_movement = []\n",
    "\n",
    "    for index in df['PRAEGENDE_JUGENDJAHRE'].values:\n",
    "\n",
    "        if np.isnan(index):\n",
    "\n",
    "            gen_by_decade.append(np.nan)\n",
    "            gen_movement.append(np.nan)\n",
    "\n",
    "            continue\n",
    "\n",
    "        gen_by_decade.append(pj_val_map[index][0])\n",
    "        gen_movement.append(pj_val_map[index][1])\n",
    "\n",
    "    gen_by_decade = np.array(gen_by_decade)\n",
    "    gen_movement = np.array(gen_movement)    \n",
    "    \n",
    "    wealth = []\n",
    "    life_stage = []\n",
    "\n",
    "    for val in df['CAMEO_INTL_2015']:\n",
    "\n",
    "        if isinstance(val, str):\n",
    "\n",
    "            val = int(val)\n",
    "\n",
    "            ones_digit = int(val % 10)\n",
    "            tens_digit = val // 10\n",
    "\n",
    "            wealth.append(ones_digit)\n",
    "            life_stage.append(tens_digit)\n",
    "\n",
    "        else:\n",
    "\n",
    "            wealth.append(np.nan)\n",
    "            life_stage.append(np.nan)\n",
    "    \n",
    "\n",
    "    wealth = np.array(wealth)\n",
    "    life_stage = np.array(life_stage)\n",
    "    \n",
    "    df = df.drop(mixed_feats, axis = 1)\n",
    "    \n",
    "    df['wealth'] = wealth\n",
    "    df['life_stage'] = life_stage\n",
    "    df['gen_by_decade'] = gen_by_decade\n",
    "    df['gen_movement'] = gen_movement\n",
    "    \n",
    "    # Return the cleaned dataframe.\n",
    "    \n",
    "    return df\n",
    "    \n",
    "    "
   ]
  },
  {
   "cell_type": "markdown",
   "metadata": {},
   "source": [
    "## Step 2: Feature Transformation\n",
    "\n",
    "### Step 2.1: Apply Feature Scaling\n",
    "\n",
    "Before we apply dimensionality reduction techniques to the data, we need to perform feature scaling so that the principal component vectors are not influenced by the natural differences in scale for features. Starting from this part of the project, you'll want to keep an eye on the [API reference page for sklearn](http://scikit-learn.org/stable/modules/classes.html) to help you navigate to all of the classes and functions that you'll need. In this substep, you'll need to check the following:\n",
    "\n",
    "- sklearn requires that data not have missing values in order for its estimators to work properly. So, before applying the scaler to your data, make sure that you've cleaned the DataFrame of the remaining missing values. This can be as simple as just removing all data points with missing data, or applying an [Imputer](http://scikit-learn.org/stable/modules/generated/sklearn.preprocessing.Imputer.html) to replace all missing values. You might also try a more complicated procedure where you temporarily remove missing values in order to compute the scaling parameters before re-introducing those missing values and applying imputation. Think about how much missing data you have and what possible effects each approach might have on your analysis, and justify your decision in the discussion section below.\n",
    "- For the actual scaling function, a [StandardScaler](http://scikit-learn.org/stable/modules/generated/sklearn.preprocessing.StandardScaler.html) instance is suggested, scaling each feature to mean 0 and standard deviation 1.\n",
    "- For these classes, you can make use of the `.fit_transform()` method to both fit a procedure to the data as well as apply the transformation to the data at the same time. Don't forget to keep the fit sklearn objects handy, since you'll be applying them to the customer demographics data towards the end of the project."
   ]
  },
  {
   "cell_type": "code",
   "execution_count": 40,
   "metadata": {},
   "outputs": [
    {
     "name": "stdout",
     "output_type": "stream",
     "text": [
      "Percent rows with at least one missing feature: 20.1168232385186%\n"
     ]
    }
   ],
   "source": [
    "# If you've not yet cleaned the dataset of all NaN values, then investigate and\n",
    "# do that now.\n",
    "num_nan_per_row = azdias.isna().sum(axis = 1)\n",
    "percent_rows_with_nan = (len(num_nan_per_row[num_nan_per_row > 0]) / azdias.shape[0])*100\n",
    "print('Percent rows with at least one missing feature: {}%'.format(percent_rows_with_nan))"
   ]
  },
  {
   "cell_type": "code",
   "execution_count": 41,
   "metadata": {},
   "outputs": [
    {
     "name": "stderr",
     "output_type": "stream",
     "text": [
      "/home/ryan/anaconda3/lib/python3.7/site-packages/sklearn/utils/deprecation.py:58: DeprecationWarning: Class Imputer is deprecated; Imputer was deprecated in version 0.20 and will be removed in 0.22. Import impute.SimpleImputer from sklearn instead.\n",
      "  warnings.warn(msg, category=DeprecationWarning)\n"
     ]
    }
   ],
   "source": [
    "imputer = Imputer(missing_values = np.nan, strategy = 'mean', axis = 0)\n",
    "X = imputer.fit_transform(azdias)"
   ]
  },
  {
   "cell_type": "code",
   "execution_count": 42,
   "metadata": {},
   "outputs": [
    {
     "name": "stdout",
     "output_type": "stream",
     "text": [
      "Number of missing values after transformation: 0\n"
     ]
    }
   ],
   "source": [
    "num_nan_after_transform = np.isnan(X).sum()\n",
    "print(f'Number of missing values after transformation: {num_nan_after_transform}')"
   ]
  },
  {
   "cell_type": "code",
   "execution_count": 43,
   "metadata": {},
   "outputs": [],
   "source": [
    "# Apply feature scaling to the general population demographics data.\n",
    "scaler = StandardScaler()\n",
    "X_scaled = scaler.fit_transform(X)"
   ]
  },
  {
   "cell_type": "code",
   "execution_count": 44,
   "metadata": {},
   "outputs": [
    {
     "name": "stdout",
     "output_type": "stream",
     "text": [
      "The average mean of all columns is -6.206666104746641e-16.\n",
      "The average standard deviation of all columns is 1.0\n"
     ]
    }
   ],
   "source": [
    "scaled_avg_mean = X_scaled.mean(axis = 0).mean()\n",
    "scaled_avg_std = X_scaled.std(axis = 0).mean()\n",
    "\n",
    "print(f'The average mean of all columns is {scaled_avg_mean}.')\n",
    "print(f'The average standard deviation of all columns is {scaled_avg_std}')"
   ]
  },
  {
   "cell_type": "markdown",
   "metadata": {},
   "source": [
    "### Discussion 2.1: Apply Feature Scaling\n",
    "It was calculated that 20% of the rows in the data set contain at least one missing feature making removal of all such rows a significant loss of information for the clustering algorithms.  Hence, a transformation was applied to the data that replaced all missig entries with the mean value of the column of the entry. In addition, all features were scalled such that the column means and standard deviations are 0 and 1 respectively.   "
   ]
  },
  {
   "cell_type": "markdown",
   "metadata": {},
   "source": [
    "### Step 2.2: Perform Dimensionality Reduction\n",
    "\n",
    "On your scaled data, you are now ready to apply dimensionality reduction techniques.\n",
    "\n",
    "- Use sklearn's [PCA](http://scikit-learn.org/stable/modules/generated/sklearn.decomposition.PCA.html) class to apply principal component analysis on the data, thus finding the vectors of maximal variance in the data. To start, you should not set any parameters (so all components are computed) or set a number of components that is at least half the number of features (so there's enough features to see the general trend in variability).\n",
    "- Check out the ratio of variance explained by each principal component as well as the cumulative variance explained. Try plotting the cumulative or sequential values using matplotlib's [`plot()`](https://matplotlib.org/api/_as_gen/matplotlib.pyplot.plot.html) function. Based on what you find, select a value for the number of transformed features you'll retain for the clustering part of the project.\n",
    "- Once you've made a choice for the number of components to keep, make sure you re-fit a PCA instance to perform the decided-on transformation."
   ]
  },
  {
   "cell_type": "code",
   "execution_count": 45,
   "metadata": {},
   "outputs": [
    {
     "data": {
      "text/plain": [
       "PCA(copy=True, iterated_power='auto', n_components=None, random_state=None,\n",
       "  svd_solver='auto', tol=0.0, whiten=False)"
      ]
     },
     "execution_count": 45,
     "metadata": {},
     "output_type": "execute_result"
    }
   ],
   "source": [
    "# Apply PCA to the data.\n",
    "pca = PCA()\n",
    "pca.fit(X_scaled)"
   ]
  },
  {
   "cell_type": "code",
   "execution_count": 46,
   "metadata": {},
   "outputs": [],
   "source": [
    "# Investigate the variance accounted for by each principal component.\n",
    "\n",
    "n_components = len(pca.explained_variance_ratio_)\n",
    "cumulative_variance = [0]\n",
    "\n",
    "for i in range(n_components):\n",
    "    \n",
    "    var_sum = cumulative_variance[i] + pca.explained_variance_ratio_[i]\n",
    "    cumulative_variance.append(var_sum)"
   ]
  },
  {
   "cell_type": "code",
   "execution_count": 47,
   "metadata": {},
   "outputs": [
    {
     "data": {
      "image/png": "[encoded data removed]",
      "text/plain": [
       "<Figure size 432x288 with 1 Axes>"
      ]
     },
     "metadata": {
      "needs_background": "light"
     },
     "output_type": "display_data"
    },
    {
     "data": {
      "image/png": "[encoded data removed]",
      "text/plain": [
       "<Figure size 432x288 with 1 Axes>"
      ]
     },
     "metadata": {
      "needs_background": "light"
     },
     "output_type": "display_data"
    }
   ],
   "source": [
    "plt.figure();\n",
    "plt.title('Variance Explained by Each Component', fontsize = 18);\n",
    "plt.xlabel('Component');\n",
    "plt.ylabel('Variance Explained');\n",
    "plt.plot(pca.explained_variance_ratio_);\n",
    "\n",
    "plt.figure();\n",
    "plt.title('Cumulative Variance Explained', fontsize = 18);\n",
    "plt.xlabel('Components Used');\n",
    "plt.ylabel('Total Variance Explained');\n",
    "plt.plot(cumulative_variance);"
   ]
  },
  {
   "cell_type": "code",
   "execution_count": 48,
   "metadata": {},
   "outputs": [],
   "source": [
    "# Re-apply PCA to the data while selecting for number of components to retain.\n",
    "pca = PCA(n_components = 30)\n",
    "X_pca = pca.fit_transform(X_scaled)"
   ]
  },
  {
   "cell_type": "markdown",
   "metadata": {},
   "source": [
    "### Discussion 2.2: Perform Dimensionality Reduction\n",
    "The number of components selected is 30.  With this number of components, the feature space can be reduced by more than half its original size while maintaining over 80% of the information contained in the original data as indicated by the cumulative variance curve."
   ]
  },
  {
   "cell_type": "markdown",
   "metadata": {},
   "source": [
    "### Step 2.3: Interpret Principal Components\n",
    "\n",
    "Now that we have our transformed principal components, it's a nice idea to check out the weight of each variable on the first few components to see if they can be interpreted in some fashion.\n",
    "\n",
    "As a reminder, each principal component is a unit vector that points in the direction of highest variance (after accounting for the variance captured by earlier principal components). The further a weight is from zero, the more the principal component is in the direction of the corresponding feature. If two features have large weights of the same sign (both positive or both negative), then increases in one tend expect to be associated with increases in the other. To contrast, features with different signs can be expected to show a negative correlation: increases in one variable should result in a decrease in the other.\n",
    "\n",
    "- To investigate the features, you should map each weight to their corresponding feature name, then sort the features according to weight. The most interesting features for each principal component, then, will be those at the beginning and end of the sorted list. Use the data dictionary document to help you understand these most prominent features, their relationships, and what a positive or negative value on the principal component might indicate.\n",
    "- You should investigate and interpret feature associations from the first three principal components in this substep. To help facilitate this, you should write a function that you can call at any time to print the sorted list of feature weights, for the *i*-th principal component. This might come in handy in the next step of the project, when you interpret the tendencies of the discovered clusters."
   ]
  },
  {
   "cell_type": "code",
   "execution_count": 49,
   "metadata": {},
   "outputs": [],
   "source": [
    "def map_weights_to_feats(weights, feat_names):\n",
    "    \n",
    "    weight_map = {feat_name: weight for feat_name, weight in zip(feat_names, weights)}\n",
    "    weight_map = sorted(weight_map.items(), key = lambda x: x[1], reverse = True)\n",
    "    weight_map = OrderedDict(weight_map)\n",
    "    \n",
    "    return weight_map\n",
    "    "
   ]
  },
  {
   "cell_type": "code",
   "execution_count": 52,
   "metadata": {},
   "outputs": [
    {
     "data": {
      "text/plain": [
       "OrderedDict([('PLZ8_ANTG3', 0.22691610288902969),\n",
       "             ('PLZ8_ANTG4', 0.22006414398527299),\n",
       "             ('life_stage', 0.207770127840464),\n",
       "             ('HH_EINKOMMEN_SCORE', 0.20440852576329216),\n",
       "             ('ORTSGR_KLS9', 0.19764377027327004),\n",
       "             ('EWDICHTE', 0.19588198584912786),\n",
       "             ('FINANZ_HAUSBAUER', 0.16322185520979163),\n",
       "             ('PLZ8_ANTG2', 0.15439949147627027),\n",
       "             ('KBA05_ANTG4', 0.1532008857238224),\n",
       "             ('FINANZ_SPARER', 0.14405056471329164),\n",
       "             ('ARBEIT', 0.14397544356687036),\n",
       "             ('ANZ_HAUSHALTE_AKTIV', 0.13593031112122272),\n",
       "             ('RELAT_AB', 0.13568427278185888),\n",
       "             ('KBA05_ANTG3', 0.13553681295644496),\n",
       "             ('SEMIO_PFLICHT', 0.11267141005420964),\n",
       "             ('SEMIO_REL', 0.10982221833490849),\n",
       "             ('gen_movement', 0.10798384941898073),\n",
       "             ('gen_by_decade', 0.099202722181637434),\n",
       "             ('SEMIO_RAT', 0.092648281448913961),\n",
       "             ('SEMIO_TRADV', 0.08611379925243369),\n",
       "             ('SEMIO_MAT', 0.077450421903592942),\n",
       "             ('SEMIO_FAM', 0.076243566194079154),\n",
       "             ('REGIOTYP', 0.073145680061968268),\n",
       "             ('FINANZ_UNAUFFAELLIGER', 0.072557743464623251),\n",
       "             ('SEMIO_KULT', 0.070329664098777209),\n",
       "             ('FINANZ_ANLEGER', 0.067153185154480988),\n",
       "             ('OST_WEST_KZ', 0.053914062367421238),\n",
       "             ('KKK', 0.04411106844544372),\n",
       "             ('SEMIO_SOZ', 0.041692923193243643),\n",
       "             ('PLZ8_HHZ', 0.041657392203918488),\n",
       "             ('SEMIO_KAEM', 0.040235068299990406),\n",
       "             ('W_KEIT_KIND_HH', 0.036858244243368983),\n",
       "             ('ANZ_HH_TITEL', 0.033987078786166761),\n",
       "             ('HEALTH_TYP', 0.030392440341108974),\n",
       "             ('VERS_TYP', 0.025211873671455859),\n",
       "             ('SEMIO_DOM', 0.023938812243804571),\n",
       "             ('KBA05_ANTG2', 0.0089384514602436817),\n",
       "             ('ANREDE_KZ', 0.0078921379392784541),\n",
       "             ('SEMIO_KRIT', 0.0052266321912702186),\n",
       "             ('SOHO_KZ', -0.0019598192852136975),\n",
       "             ('ANZ_TITEL', -0.0042323764845821872),\n",
       "             ('RETOURTYP_BK_S', -0.016721656003621733),\n",
       "             ('SEMIO_VERT', -0.040196754204705996),\n",
       "             ('ONLINE_AFFINITAET', -0.045801076992913116),\n",
       "             ('MIN_GEBAEUDEJAHR', -0.058367830974703439),\n",
       "             ('WOHNDAUER_2008', -0.060718218324573484),\n",
       "             ('SEMIO_LUST', -0.071621238492039246),\n",
       "             ('SEMIO_ERL', -0.074176138640318981),\n",
       "             ('KBA13_ANZAHL_PKW', -0.078581560183898183),\n",
       "             ('ANZ_PERSONEN', -0.079402076337740282),\n",
       "             ('GREEN_AVANTGARDE', -0.11028037431093217),\n",
       "             ('FINANZ_VORSORGER', -0.11183124943017922),\n",
       "             ('ALTERSKATEGORIE_GROB', -0.11686532769797842),\n",
       "             ('GEBAEUDETYP_RASTER', -0.11737311829005034),\n",
       "             ('wealth', -0.12526647813781464),\n",
       "             ('BALLRAUM', -0.12740150922211235),\n",
       "             ('INNENSTADT', -0.16495884993318247),\n",
       "             ('PLZ8_GBZ', -0.16802667543320063),\n",
       "             ('KONSUMNAEHE', -0.16821018907945456),\n",
       "             ('KBA05_GBZ', -0.21741787834757814),\n",
       "             ('FINANZ_MINIMALIST', -0.21857917624430961),\n",
       "             ('KBA05_ANTG1', -0.22587295590729461),\n",
       "             ('PLZ8_ANTG1', -0.22653195113301361),\n",
       "             ('MOBI_REGIO', -0.24236875377720415)])"
      ]
     },
     "execution_count": 52,
     "metadata": {},
     "output_type": "execute_result"
    }
   ],
   "source": [
    "# Map weights for the first principal component to corresponding feature names\n",
    "# and then print the linked values, sorted by weight.\n",
    "# HINT: Try defining a function here or in a new cell that you can reuse in the\n",
    "# other cells.\n",
    "\n",
    "comp_1_weight_map = map_weights_to_feats(pca.components_[0], azdias.columns)\n",
    "comp_1_weight_map"
   ]
  },
  {
   "cell_type": "code",
   "execution_count": 53,
   "metadata": {},
   "outputs": [
    {
     "data": {
      "text/plain": [
       "OrderedDict([('ALTERSKATEGORIE_GROB', 0.26066099013343103),\n",
       "             ('FINANZ_VORSORGER', 0.23329106415255782),\n",
       "             ('SEMIO_ERL', 0.23084940583396996),\n",
       "             ('SEMIO_LUST', 0.18309120251366451),\n",
       "             ('RETOURTYP_BK_S', 0.16412442351439441),\n",
       "             ('W_KEIT_KIND_HH', 0.11849341001538589),\n",
       "             ('SEMIO_KRIT', 0.1163636612528491),\n",
       "             ('FINANZ_HAUSBAUER', 0.11464466305625808),\n",
       "             ('SEMIO_KAEM', 0.11143777681779035),\n",
       "             ('PLZ8_ANTG3', 0.090982745914284666),\n",
       "             ('ANREDE_KZ', 0.089832225401520471),\n",
       "             ('EWDICHTE', 0.08954703056400834),\n",
       "             ('ORTSGR_KLS9', 0.088109001186034167),\n",
       "             ('PLZ8_ANTG4', 0.086844740512115617),\n",
       "             ('life_stage', 0.07174842828320524),\n",
       "             ('SEMIO_DOM', 0.069345165682701257),\n",
       "             ('FINANZ_MINIMALIST', 0.068708650578587716),\n",
       "             ('KBA05_ANTG4', 0.067329122345160072),\n",
       "             ('ARBEIT', 0.065403147164109554),\n",
       "             ('RELAT_AB', 0.063091072274749693),\n",
       "             ('PLZ8_ANTG2', 0.062726420700591798),\n",
       "             ('ANZ_HAUSHALTE_AKTIV', 0.060970546433332079),\n",
       "             ('WOHNDAUER_2008', 0.059791959261932572),\n",
       "             ('HH_EINKOMMEN_SCORE', 0.052478461391276723),\n",
       "             ('KBA05_ANTG3', 0.04154193001746323),\n",
       "             ('VERS_TYP', 0.032664775996791989),\n",
       "             ('ANZ_HH_TITEL', 0.030559555884380078),\n",
       "             ('OST_WEST_KZ', 0.02484343313247776),\n",
       "             ('REGIOTYP', 0.021071643643428853),\n",
       "             ('PLZ8_HHZ', 0.012527932952061336),\n",
       "             ('gen_movement', 0.012200754510990001),\n",
       "             ('ANZ_TITEL', 0.0071207926423506752),\n",
       "             ('KKK', 0.0036549715292776212),\n",
       "             ('wealth', 0.0028912066201401752),\n",
       "             ('SOHO_KZ', -0.0019947807031481272),\n",
       "             ('KBA05_ANTG2', -0.0097137841978514848),\n",
       "             ('GREEN_AVANTGARDE', -0.014134081918268863),\n",
       "             ('KBA13_ANZAHL_PKW', -0.03491168421494014),\n",
       "             ('GEBAEUDETYP_RASTER', -0.04194970736233266),\n",
       "             ('MIN_GEBAEUDEJAHR', -0.046962587120990974),\n",
       "             ('HEALTH_TYP', -0.058569176512029031),\n",
       "             ('BALLRAUM', -0.059195825653433301),\n",
       "             ('ANZ_PERSONEN', -0.061048152724874273),\n",
       "             ('KONSUMNAEHE', -0.067172367985488812),\n",
       "             ('SEMIO_VERT', -0.068778168747328158),\n",
       "             ('PLZ8_GBZ', -0.070082340812015351),\n",
       "             ('INNENSTADT', -0.072519756991640094),\n",
       "             ('KBA05_ANTG1', -0.076198891569805513),\n",
       "             ('KBA05_GBZ', -0.085702685681674745),\n",
       "             ('MOBI_REGIO', -0.086099422515721308),\n",
       "             ('PLZ8_ANTG1', -0.088367892555946806),\n",
       "             ('SEMIO_SOZ', -0.10299587454289523),\n",
       "             ('SEMIO_MAT', -0.1627433598423699),\n",
       "             ('ONLINE_AFFINITAET', -0.16402496085841528),\n",
       "             ('SEMIO_RAT', -0.17158275914915078),\n",
       "             ('SEMIO_FAM', -0.18365777095316926),\n",
       "             ('FINANZ_ANLEGER', -0.2053188695329673),\n",
       "             ('SEMIO_KULT', -0.22027519105504631),\n",
       "             ('FINANZ_UNAUFFAELLIGER', -0.22732773827980071),\n",
       "             ('SEMIO_PFLICHT', -0.22958972910309777),\n",
       "             ('SEMIO_TRADV', -0.23172889721937548),\n",
       "             ('FINANZ_SPARER', -0.23630585645822311),\n",
       "             ('gen_by_decade', -0.251596411203381),\n",
       "             ('SEMIO_REL', -0.25582353416709835)])"
      ]
     },
     "execution_count": 53,
     "metadata": {},
     "output_type": "execute_result"
    }
   ],
   "source": [
    "# Map weights for the second principal component to corresponding feature names\n",
    "# and then print the linked values, sorted by weight.\n",
    "comp_2_weight_map = map_weights_to_feats(pca.components_[1], azdias.columns)\n",
    "comp_2_weight_map"
   ]
  },
  {
   "cell_type": "code",
   "execution_count": 54,
   "metadata": {},
   "outputs": [
    {
     "data": {
      "text/plain": [
       "OrderedDict([('SEMIO_VERT', 0.34630166874585278),\n",
       "             ('SEMIO_SOZ', 0.26344030474589264),\n",
       "             ('SEMIO_FAM', 0.25018348223444642),\n",
       "             ('SEMIO_KULT', 0.23431781880370264),\n",
       "             ('FINANZ_MINIMALIST', 0.15629192443683848),\n",
       "             ('RETOURTYP_BK_S', 0.1087866467979814),\n",
       "             ('FINANZ_VORSORGER', 0.10035689784597192),\n",
       "             ('W_KEIT_KIND_HH', 0.090579519429156929),\n",
       "             ('ALTERSKATEGORIE_GROB', 0.078690495262549287),\n",
       "             ('SEMIO_REL', 0.070223353744448977),\n",
       "             ('SEMIO_LUST', 0.064149113379770334),\n",
       "             ('SEMIO_MAT', 0.054811262679952739),\n",
       "             ('GREEN_AVANTGARDE', 0.048381186605110482),\n",
       "             ('ORTSGR_KLS9', 0.04683799377316334),\n",
       "             ('EWDICHTE', 0.046316198160848747),\n",
       "             ('PLZ8_ANTG4', 0.045667175122423749),\n",
       "             ('PLZ8_ANTG3', 0.04527644069031312),\n",
       "             ('ARBEIT', 0.034540150195685786),\n",
       "             ('WOHNDAUER_2008', 0.032810951971171586),\n",
       "             ('RELAT_AB', 0.03156119084274131),\n",
       "             ('PLZ8_ANTG2', 0.03023449584479812),\n",
       "             ('KBA05_ANTG4', 0.027123859614705554),\n",
       "             ('life_stage', 0.027037341834945171),\n",
       "             ('ANZ_HAUSHALTE_AKTIV', 0.025362736927020083),\n",
       "             ('OST_WEST_KZ', 0.015023984238170985),\n",
       "             ('VERS_TYP', 0.014915619797939039),\n",
       "             ('ANZ_HH_TITEL', 0.013331132128924901),\n",
       "             ('ANZ_TITEL', 0.0098268255142553735),\n",
       "             ('KBA05_ANTG3', 0.0078194388071271981),\n",
       "             ('PLZ8_HHZ', 0.004228518193273809),\n",
       "             ('SOHO_KZ', 0.00013459014575833842),\n",
       "             ('REGIOTYP', -0.0039050030356391993),\n",
       "             ('ANZ_PERSONEN', -0.0087311051829778771),\n",
       "             ('wealth', -0.008818283869452416),\n",
       "             ('KBA05_ANTG2', -0.010927682668774965),\n",
       "             ('KKK', -0.014030957827573284),\n",
       "             ('MIN_GEBAEUDEJAHR', -0.01716147815981077),\n",
       "             ('HH_EINKOMMEN_SCORE', -0.019894872849610026),\n",
       "             ('HEALTH_TYP', -0.020024596655138772),\n",
       "             ('KBA05_ANTG1', -0.023146974516388859),\n",
       "             ('KBA13_ANZAHL_PKW', -0.023235805461937264),\n",
       "             ('KBA05_GBZ', -0.026543913336684356),\n",
       "             ('MOBI_REGIO', -0.029374769559508039),\n",
       "             ('GEBAEUDETYP_RASTER', -0.030067069487945887),\n",
       "             ('BALLRAUM', -0.034887527728359222),\n",
       "             ('KONSUMNAEHE', -0.037654225767504115),\n",
       "             ('PLZ8_GBZ', -0.038603463926984487),\n",
       "             ('INNENSTADT', -0.042977196328551091),\n",
       "             ('FINANZ_HAUSBAUER', -0.044126899353380954),\n",
       "             ('PLZ8_ANTG1', -0.046123195189224211),\n",
       "             ('gen_movement', -0.046495941691509016),\n",
       "             ('ONLINE_AFFINITAET', -0.05424273363134529),\n",
       "             ('SEMIO_TRADV', -0.078667451647976283),\n",
       "             ('SEMIO_PFLICHT', -0.078879883618800689),\n",
       "             ('FINANZ_UNAUFFAELLIGER', -0.098763180786417826),\n",
       "             ('FINANZ_SPARER', -0.10548241084874416),\n",
       "             ('gen_by_decade', -0.10710570272949739),\n",
       "             ('SEMIO_ERL', -0.17542190386783826),\n",
       "             ('FINANZ_ANLEGER', -0.1888158249771657),\n",
       "             ('SEMIO_RAT', -0.2172248878721092),\n",
       "             ('SEMIO_KRIT', -0.27413296032456169),\n",
       "             ('SEMIO_DOM', -0.31396712116306191),\n",
       "             ('SEMIO_KAEM', -0.33749348485656699),\n",
       "             ('ANREDE_KZ', -0.36907400850390593)])"
      ]
     },
     "execution_count": 54,
     "metadata": {},
     "output_type": "execute_result"
    }
   ],
   "source": [
    "# Map weights for the third principal component to corresponding feature names\n",
    "# and then print the linked values, sorted by weight.\n",
    "comp_3_weight_map = map_weights_to_feats(pca.components_[2], azdias.columns)\n",
    "comp_3_weight_map"
   ]
  },
  {
   "cell_type": "markdown",
   "metadata": {},
   "source": [
    "### Discussion 2.3: Interpret Principal Components\n",
    "For the first PC, PLZ8_ANTG3, PLZ8_ANTG4, PLZ8_ANTG1, and MOBI_REGIO have the largest absolute weight values indicating that these features explain the most variation for PC1.  The signs of the coefficients suggest that the  PLZ8_ANTG3 and PLZ8_ANTG4 negatively correlate with PLZ8_ANTG1 and MOBI_REGIO but each feature positively correlates with the other in its pair. \n",
    "\n",
    "The features in PC2 that explain the most data variation are ALTERSKATEGORIE_GROB, FINANZ_VORSORGER, gen_by_decade, and SEMIO_REL and the signs of the weights indicate that ALTERSKATEGORIE_GROB and FINANZ_VORSORGER posively correlate with each other but negatively correlate with gen_by_decade and SEMIO_REL. Also, gen_by_decade and SEMIO_REL correlate positively.\n",
    "\n",
    "Finally, the PC3 features SEMIO_VERT, SEMIO_SOZ, SEMIO_KAEM, and ANREDE_KZ explain the most variation.  The signs of the weights can be interpretted such that the pair SEMIO_VERT and SEMIO_SOZ correlate positively and so does the pair SEMIO_KAEM and ANREDE_KZ but each pair corrleates negatviely with each other. "
   ]
  },
  {
   "cell_type": "markdown",
   "metadata": {},
   "source": [
    "## Step 3: Clustering\n",
    "\n",
    "### Step 3.1: Apply Clustering to General Population\n",
    "\n",
    "You've assessed and cleaned the demographics data, then scaled and transformed them. Now, it's time to see how the data clusters in the principal components space. In this substep, you will apply k-means clustering to the dataset and use the average within-cluster distances from each point to their assigned cluster's centroid to decide on a number of clusters to keep.\n",
    "\n",
    "- Use sklearn's [KMeans](http://scikit-learn.org/stable/modules/generated/sklearn.cluster.KMeans.html#sklearn.cluster.KMeans) class to perform k-means clustering on the PCA-transformed data.\n",
    "- Then, compute the average difference from each point to its assigned cluster's center. **Hint**: The KMeans object's `.score()` method might be useful here, but note that in sklearn, scores tend to be defined so that larger is better. Try applying it to a small, toy dataset, or use an internet search to help your understanding.\n",
    "- Perform the above two steps for a number of different cluster counts. You can then see how the average distance decreases with an increasing number of clusters. However, each additional cluster provides a smaller net benefit. Use this fact to select a final number of clusters in which to group the data. **Warning**: because of the large size of the dataset, it can take a long time for the algorithm to resolve. The more clusters to fit, the longer the algorithm will take. You should test for cluster counts through at least 10 clusters to get the full picture, but you shouldn't need to test for a number of clusters above about 30.\n",
    "- Once you've selected a final number of clusters to use, re-fit a KMeans instance to perform the clustering operation. Make sure that you also obtain the cluster assignments for the general demographics data, since you'll be using them in the final Step 3.3."
   ]
  },
  {
   "cell_type": "code",
   "execution_count": 88,
   "metadata": {},
   "outputs": [],
   "source": [
    "def calculate_average_distance(X, model):\n",
    "    \n",
    "    n_observations = X.shape[0]\n",
    "    distance = 0\n",
    "    \n",
    "    for i in range(n_observations):\n",
    "        \n",
    "        x = X[i, :]\n",
    "        x_label = model.labels_[i]\n",
    "        x_center = model.cluster_centers_[x_label]\n",
    "        \n",
    "        distance_squared = np.sum((x - x_center)**2)\n",
    "        distance += np.sqrt(distance_squared)\n",
    "    \n",
    "    avg_distance = distance / n_observations\n",
    "    \n",
    "    return avg_distance       "
   ]
  },
  {
   "cell_type": "code",
   "execution_count": 52,
   "metadata": {},
   "outputs": [
    {
     "name": "stdout",
     "output_type": "stream",
     "text": [
      "Completed the 2 cluster model.\n",
      "Average distance was 48.18603063157411\n",
      "\n",
      "Completed the 3 cluster model.\n",
      "Average distance was 44.05632454243328\n",
      "\n",
      "Completed the 4 cluster model.\n",
      "Average distance was 41.43574762889989\n",
      "\n",
      "Completed the 5 cluster model.\n",
      "Average distance was 39.60699357112816\n",
      "\n",
      "Completed the 6 cluster model.\n",
      "Average distance was 38.02044107695494\n",
      "\n",
      "Completed the 7 cluster model.\n",
      "Average distance was 36.61372301232829\n",
      "\n",
      "Completed the 8 cluster model.\n",
      "Average distance was 35.529796027607325\n",
      "\n",
      "Completed the 9 cluster model.\n",
      "Average distance was 34.78159771867706\n",
      "\n",
      "Completed the 10 cluster model.\n",
      "Average distance was 34.05700320232773\n",
      "\n",
      "Completed the 11 cluster model.\n",
      "Average distance was 33.315659083612154\n",
      "\n",
      "Completed the 12 cluster model.\n",
      "Average distance was 32.59863578007646\n",
      "\n",
      "Completed the 13 cluster model.\n",
      "Average distance was 31.785308883567556\n",
      "\n",
      "Completed the 14 cluster model.\n",
      "Average distance was 31.79483846128536\n",
      "\n",
      "Completed the 15 cluster model.\n",
      "Average distance was 31.072118664611487\n",
      "\n",
      "Completed the 16 cluster model.\n",
      "Average distance was 31.20504900722134\n",
      "\n",
      "Completed the 17 cluster model.\n",
      "Average distance was 30.332802694490244\n",
      "\n",
      "Completed the 18 cluster model.\n",
      "Average distance was 30.04496222327051\n",
      "\n",
      "Completed the 19 cluster model.\n",
      "Average distance was 29.77387927585746\n",
      "\n",
      "Completed the 20 cluster model.\n",
      "Average distance was 29.262583218358063\n",
      "\n",
      "Completed the 21 cluster model.\n",
      "Average distance was 29.02992018579982\n",
      "\n",
      "Completed the 22 cluster model.\n",
      "Average distance was 28.929811761392305\n",
      "\n",
      "Completed the 23 cluster model.\n",
      "Average distance was 28.408549930167904\n",
      "\n",
      "Completed the 24 cluster model.\n",
      "Average distance was 28.18634858718975\n",
      "\n",
      "Completed the 25 cluster model.\n",
      "Average distance was 27.919321280651502\n",
      "\n",
      "Completed the 26 cluster model.\n",
      "Average distance was 27.768585156774677\n",
      "\n",
      "Completed the 27 cluster model.\n",
      "Average distance was 27.467330420697092\n",
      "\n",
      "Completed the 28 cluster model.\n",
      "Average distance was 27.32330077097225\n",
      "\n",
      "Completed the 29 cluster model.\n",
      "Average distance was 27.198310503151557\n",
      "\n",
      "Completed the 30 cluster model.\n",
      "Average distance was 26.98821854862986\n",
      "\n"
     ]
    }
   ],
   "source": [
    "avg_differences = []\n",
    "\n",
    "for k in range(2, 31):\n",
    "    \n",
    "    kmeans = KMeans(n_clusters = k)\n",
    "    kmeans.fit(X_pca)\n",
    "    \n",
    "    avg_difference = -kmeans.score(X_pca) / X_pca.shape[0]\n",
    "    avg_differences.append(avg_difference) \n",
    "    \n",
    "    print(f'Completed the {k} cluster model.')\n",
    "    print(f'Average distance was {avg_difference}\\n')"
   ]
  },
  {
   "cell_type": "code",
   "execution_count": 53,
   "metadata": {},
   "outputs": [
    {
     "data": {
      "image/png": "[encoded data removed]",
      "text/plain": [
       "<Figure size 720x720 with 1 Axes>"
      ]
     },
     "metadata": {
      "needs_background": "light"
     },
     "output_type": "display_data"
    }
   ],
   "source": [
    "# Investigate the change in within-cluster distance across number of clusters.\n",
    "# HINT: Use matplotlib's plot function to visualize this relationship.\n",
    "plt.figure(figsize = (10, 10));\n",
    "plt.plot(range(2, 31), avg_differences);\n",
    "plt.title('Averages Distances as Number of Clusters Increases', fontsize = 18);\n",
    "plt.xlabel('Number of Clusters');\n",
    "plt.ylabel('Average Distance');"
   ]
  },
  {
   "cell_type": "code",
   "execution_count": 54,
   "metadata": {},
   "outputs": [],
   "source": [
    "# Re-fit the k-means model with the selected number of clusters and obtain\n",
    "# cluster predictions for the general population demographics data.\n",
    "kmeans = KMeans(n_clusters = 15).fit(X_pca)"
   ]
  },
  {
   "cell_type": "markdown",
   "metadata": {},
   "source": [
    "### Discussion 3.1: Apply Clustering to General Population\n",
    "According to the elbow plot given above, the rate at which the average distance decreases with respect to the cluster number begins to decrease dramatically after 15 clusters were used on the population.  Clusters added beyond this point are likely to overfit the data rather than provide a more accurate model. Therefore, the population has been segmented into 15 clusters in the final model."
   ]
  },
  {
   "cell_type": "markdown",
   "metadata": {},
   "source": [
    "### Step 3.2: Apply All Steps to the Customer Data\n",
    "\n",
    "Now that you have clusters and cluster centers for the general population, it's time to see how the customer data maps on to those clusters. Take care to not confuse this for re-fitting all of the models to the customer data. Instead, you're going to use the fits from the general population to clean, transform, and cluster the customer data. In the last step of the project, you will interpret how the general population fits apply to the customer data.\n",
    "\n",
    "- Don't forget when loading in the customers data, that it is semicolon (`;`) delimited.\n",
    "- Apply the same feature wrangling, selection, and engineering steps to the customer demographics using the `clean_data()` function you created earlier. (You can assume that the customer demographics data has similar meaning behind missing data patterns as the general demographics data.)\n",
    "- Use the sklearn objects from the general demographics data, and apply their transformations to the customers data. That is, you should not be using a `.fit()` or `.fit_transform()` method to re-fit the old objects, nor should you be creating new sklearn objects! Carry the data through the feature scaling, PCA, and clustering steps, obtaining cluster assignments for all of the data in the customer demographics data."
   ]
  },
  {
   "cell_type": "code",
   "execution_count": 89,
   "metadata": {},
   "outputs": [],
   "source": [
    "# Load in the customer demographics data.\n",
    "customers = pd.read_csv('./Udacity_CUSTOMERS_Subset.csv', sep = ';')"
   ]
  },
  {
   "cell_type": "code",
   "execution_count": 90,
   "metadata": {},
   "outputs": [],
   "source": [
    "# Apply preprocessing, feature transformation, and clustering from the general\n",
    "# demographics onto the customer data, obtaining cluster predictions for the\n",
    "# customer demographics data.\n",
    "\n",
    "customers = clean_data(customers)\n",
    "\n",
    "X_customers = imputer.transform(customers)\n",
    "X_scaled_customers = scaler.transform(X_customers)\n",
    "X_pca_customers = pca.transform(X_scaled_customers)\n",
    "\n",
    "customer_labels = kmeans.predict(X_pca_customers)"
   ]
  },
  {
   "cell_type": "code",
   "execution_count": 91,
   "metadata": {},
   "outputs": [],
   "source": [
    "population_labels = kmeans.predict(X_pca)"
   ]
  },
  {
   "cell_type": "markdown",
   "metadata": {},
   "source": [
    "### Step 3.3: Compare Customer Data to Demographics Data\n",
    "\n",
    "At this point, you have clustered data based on demographics of the general population of Germany, and seen how the customer data for a mail-order sales company maps onto those demographic clusters. In this final substep, you will compare the two cluster distributions to see where the strongest customer base for the company is.\n",
    "\n",
    "Consider the proportion of persons in each cluster for the general population, and the proportions for the customers. If we think the company's customer base to be universal, then the cluster assignment proportions should be fairly similar between the two. If there are only particular segments of the population that are interested in the company's products, then we should see a mismatch from one to the other. If there is a higher proportion of persons in a cluster for the customer data compared to the general population (e.g. 5% of persons are assigned to a cluster for the general population, but 15% of the customer data is closest to that cluster's centroid) then that suggests the people in that cluster to be a target audience for the company. On the other hand, the proportion of the data in a cluster being larger in the general population than the customer data (e.g. only 2% of customers closest to a population centroid that captures 6% of the data) suggests that group of persons to be outside of the target demographics.\n",
    "\n",
    "Take a look at the following points in this step:\n",
    "\n",
    "- Compute the proportion of data points in each cluster for the general population and the customer data. Visualizations will be useful here: both for the individual dataset proportions, but also to visualize the ratios in cluster representation between groups. Seaborn's [`countplot()`](https://seaborn.pydata.org/generated/seaborn.countplot.html) or [`barplot()`](https://seaborn.pydata.org/generated/seaborn.barplot.html) function could be handy.\n",
    "  - Recall the analysis you performed in step 1.1.3 of the project, where you separated out certain data points from the dataset if they had more than a specified threshold of missing values. If you found that this group was qualitatively different from the main bulk of the data, you should treat this as an additional data cluster in this analysis. Make sure that you account for the number of data points in this subset, for both the general population and customer datasets, when making your computations!\n",
    "- Which cluster or clusters are overrepresented in the customer dataset compared to the general population? Select at least one such cluster and infer what kind of people might be represented by that cluster. Use the principal component interpretations from step 2.3 or look at additional components to help you make this inference. Alternatively, you can use the `.inverse_transform()` method of the PCA and StandardScaler objects to transform centroids back to the original data space and interpret the retrieved values directly.\n",
    "- Perform a similar investigation for the underrepresented clusters. Which cluster or clusters are underrepresented in the customer dataset compared to the general population, and what kinds of people are typified by these clusters?"
   ]
  },
  {
   "cell_type": "code",
   "execution_count": 92,
   "metadata": {},
   "outputs": [],
   "source": [
    "counts_customer = Counter(customer_labels)\n",
    "n_customers = X_pca_customers.shape[0]\n",
    "\n",
    "customer_freqs = {label: 100*(freq / n_customers) for label, freq in counts_customer.items()}"
   ]
  },
  {
   "cell_type": "code",
   "execution_count": 93,
   "metadata": {},
   "outputs": [],
   "source": [
    "counts_population = Counter(population_labels)\n",
    "n_population = X_pca.shape[0]\n",
    "\n",
    "population_freqs = {label: 100*(freq / n_population) for label, freq in counts_population.items()}"
   ]
  },
  {
   "cell_type": "code",
   "execution_count": 94,
   "metadata": {},
   "outputs": [
    {
     "data": {
      "image/png": "[encoded data removed]",
      "text/plain": [
       "<Figure size 720x360 with 1 Axes>"
      ]
     },
     "metadata": {
      "needs_background": "light"
     },
     "output_type": "display_data"
    },
    {
     "data": {
      "image/png": "[encoded data removed]",
      "text/plain": [
       "<Figure size 720x360 with 1 Axes>"
      ]
     },
     "metadata": {
      "needs_background": "light"
     },
     "output_type": "display_data"
    }
   ],
   "source": [
    "# Compare the proportion of data in each cluster for the customer data to the\n",
    "# proportion of data in each cluster for the general population.\n",
    "plt.figure(figsize = (10, 5));\n",
    "plt.bar(customer_freqs.keys(), customer_freqs.values());\n",
    "plt.title('Customer Cluster Frequencies', fontsize = 18);\n",
    "plt.xlabel('Cluster Label');\n",
    "plt.ylabel('Percent of Customers');\n",
    "\n",
    "plt.figure(figsize = (10, 5));\n",
    "plt.bar(population_freqs.keys(), population_freqs.values());\n",
    "plt.title('Population Cluster Frequencies', fontsize = 18);\n",
    "plt.xlabel('Cluster Label');\n",
    "plt.ylabel('Population of Customers');\n",
    "plt.ylim(bottom = 0, top = 35);\n"
   ]
  },
  {
   "cell_type": "code",
   "execution_count": 112,
   "metadata": {},
   "outputs": [
    {
     "name": "stdout",
     "output_type": "stream",
     "text": [
      "Proportion of general population in cluster 11: 7.123346317965836%\n",
      "Proportion of customer population in cluster 11: 31.65789397992349%\n",
      "\n",
      "The average first three PC's for the individuals in cluster 11 are -0.39247197733832234, 0.0129760160676945, and \n",
      "0.30785081014959287.\n"
     ]
    }
   ],
   "source": [
    "# What kinds of people are part of a cluster that is overrepresented in the\n",
    "# customer data compared to the general population?\n",
    "\n",
    "print(f'Proportion of general population in cluster 11: {population_freqs[11]}%')\n",
    "print(f'Proportion of customer population in cluster 11: {customer_freqs[11]}%\\n')\n",
    "\n",
    "\n",
    "pc1_avg = (X_pca[population_labels == 11][:, 0].sum() + X_pca_customers[customer_labels == 11][:, 0].sum()) / \\\n",
    "          (n_population + n_customers)\n",
    "\n",
    "pc2_avg = (X_pca[population_labels == 11][:, 1].sum() + X_pca_customers[customer_labels == 11][:, 1].sum()) / \\\n",
    "          (n_population + n_customers)\n",
    "\n",
    "pc3_avg = (X_pca[population_labels == 11][:, 2].sum() + X_pca_customers[customer_labels == 11][:, 2].sum()) / \\\n",
    "          (n_population + n_customers)\n",
    "\n",
    "print(f'The average first three PC\\'s for the individuals in cluster 11 are {pc1_avg}, {pc2_avg}, and \\n{pc3_avg}.' )"
   ]
  },
  {
   "cell_type": "code",
   "execution_count": 111,
   "metadata": {},
   "outputs": [
    {
     "name": "stdout",
     "output_type": "stream",
     "text": [
      "Proportion of general population in cluster 11: 7.355480271177576%\n",
      "Proportion of customer population in cluster 11: 0.6917479218799436%\n",
      "\n",
      "The average first three PC's for the individuals in cluster 2 are 0.11558578240291269, -0.12093482358208743, and \n",
      "-0.18644881599508795.\n"
     ]
    }
   ],
   "source": [
    "# What kinds of people are part of a cluster that is underrepresented in the\n",
    "# customer data compared to the general population?\n",
    "\n",
    "print(f'Proportion of general population in cluster 11: {population_freqs[2]}%')\n",
    "print(f'Proportion of customer population in cluster 11: {customer_freqs[2]}%\\n')\n",
    "\n",
    "pc1_avg = (X_pca[population_labels == 2][:, 0].sum() + X_pca_customers[customer_labels == 2][:, 0].sum()) / \\\n",
    "          (n_population + n_customers)\n",
    "\n",
    "pc2_avg = (X_pca[population_labels == 2][:, 1].sum() + X_pca_customers[customer_labels == 2][:, 1].sum()) / \\\n",
    "          (n_population + n_customers)\n",
    "\n",
    "pc3_avg = (X_pca[population_labels == 2][:, 2].sum() + X_pca_customers[customer_labels == 2][:, 2].sum()) / \\\n",
    "          (n_population + n_customers)\n",
    "\n",
    "print(f'The average first three PC\\'s for the individuals in cluster 2 are {pc1_avg}, {pc2_avg}, and \\n{pc3_avg}.' )"
   ]
  },
  {
   "cell_type": "markdown",
   "metadata": {},
   "source": [
    "### Discussion 3.3: Compare Customer Data to Demographics Data\n",
    "The cluster distributions for the general and customer populations indicate that cluster 11 is overrepresented in the customer population.  It was shown that the proportion of customers in cluster 11 is over four times greater than the proportion of the general population in cluster 11.  The average value for PC1 for these two groups was a negative.  Since PC1 is dominated by information pertaining to the size of the homes in the region the individuals live as well as their movement patterns, its value indicates that people who live in smaller homes with low movement form a large customer base.  The PC2 average was a positive value.  This component encapsulates information pertaining to the age and financial orientation of the inviduals which suggests the company's customers tend to be older with lower concerns for being financially prepared.  The PC3 average was also positive.  This component is dominated by information pertaining primarily to the personalty typology and this PC3 average suggests that the customers tend to be males who are not dreamful and socially minded but more combative in attitude.  \n",
    "\n",
    "The cluster distributions also indicate that cluster 2 is underrepresented in the customer population.  It was shown that the proportion of people in cluster 2 for the general population is over 10 times that for the customer population. For cluster 2, note that the signs of the PC averages are opposite of those for cluster 11.  This indicates that inviduals with the opposite characteristics of those in cluster 11 are unlikely to be customers of the mail order company.\n",
    "\n"
   ]
  },
  {
   "cell_type": "markdown",
   "metadata": {},
   "source": [
    "> Congratulations on making it this far in the project! Before you finish, make sure to check through the entire notebook from top to bottom to make sure that your analysis follows a logical flow and all of your findings are documented in **Discussion** cells. Once you've checked over all of your work, you should export the notebook as an HTML document to submit for evaluation. You can do this from the menu, navigating to **File -> Download as -> HTML (.html)**. You will submit both that document and this notebook for your project submission."
   ]
  }
 ],
 "metadata": {
  "kernelspec": {
   "display_name": "Python 3",
   "language": "python",
   "name": "python3"
  },
  "language_info": {
   "codemirror_mode": {
    "name": "ipython",
    "version": 3
   },
   "file_extension": ".py",
   "mimetype": "text/x-python",
   "name": "python",
   "nbconvert_exporter": "python",
   "pygments_lexer": "ipython3",
   "version": "3.7.3"
  }
 },
 "nbformat": 4,
 "nbformat_minor": 2
}
